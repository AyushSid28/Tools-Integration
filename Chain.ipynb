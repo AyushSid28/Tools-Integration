{
 "cells": [
  {
   "cell_type": "code",
   "execution_count": 1,
   "id": "0f942c66",
   "metadata": {},
   "outputs": [],
   "source": [
    "from dotenv import load_dotenv\n",
    "load_dotenv()\n",
    "\n",
    "import os\n",
    "os.environ[\"OPENAI_API_KEY\"]=os.getenv(\"OPENAI_API_KEY\")\n",
    "\n",
    "\n"
   ]
  },
  {
   "cell_type": "code",
   "execution_count": 9,
   "id": "4e29db42",
   "metadata": {},
   "outputs": [
    {
     "name": "stdout",
     "output_type": "stream",
     "text": [
      "==================================\u001b[1m Ai Message \u001b[0m==================================\n",
      "Name: LLMModel\n",
      "\n",
      "Please tell me how can I help\n",
      "================================\u001b[1m Human Message \u001b[0m=================================\n",
      "Name: AYUSH\n",
      "\n",
      "I want to build a cross dimensional machine through which I can meet my lookalike from parallel timeline\n",
      "==================================\u001b[1m Ai Message \u001b[0m==================================\n",
      "Name: LLMModel\n",
      "\n",
      "I can help you with that\n",
      "================================\u001b[1m Human Message \u001b[0m=================================\n",
      "Name: AYUSH\n",
      "\n",
      "Then Teach me\n"
     ]
    }
   ],
   "source": [
    "from langchain_core.messages import AIMessage,HumanMessage\n",
    "from pprint import pprint\n",
    "\n",
    "messages=[AIMessage(content=f\"Please tell me how can I help\",name=\"LLMModel\")]\n",
    "messages.append(HumanMessage(content=f\"I want to build a cross dimensional machine through which I can meet my lookalike from parallel timeline\",name=\"AYUSH\"))\n",
    "messages.append(AIMessage(content=f\"I can help you with that\",name=\"LLMModel\"))\n",
    "messages.append(HumanMessage(content=f\"Then Teach me\",name=\"AYUSH\"))\n",
    "\n",
    "for message in messages:\n",
    "    message.pretty_print()"
   ]
  },
  {
   "cell_type": "code",
   "execution_count": 14,
   "id": "03a2a697",
   "metadata": {},
   "outputs": [
    {
     "name": "stdout",
     "output_type": "stream",
     "text": [
      "content='Building a cross-dimensional machine to meet your lookalike from a parallel timeline is a concept more rooted in science fiction than current scientific reality. However, we can explore some ideas and principles that might inspire creative thinking about such a machine:\\n\\n1. **Understanding Parallel Universes**: Familiarize yourself with the multiverse theory, which suggests that there might be multiple, perhaps infinite, parallel universes where different outcomes and realities exist. Read about concepts from quantum mechanics, such as the Many-Worlds Interpretation.\\n\\n2. **Theoretical Foundations**: Study the basics of quantum physics, string theory, and relativity. Understanding these theories is essential for contemplating alternate dimensions and timelines.\\n\\n3. **Time and Space Manipulation**: Look into theoretical constructs like wormholes or cosmic strings, which are proposed as potential methods for traveling between different points in time and space. \\n\\n4. **Technological Aspects**: Consider the types of technology that might be involved. This includes advanced computing, quantum entanglement, and possibly even artificial intelligence to navigate complex calculations and simulations.\\n\\n5. **Creative Design**: Sketch out how your machine might look and function. Think about the mechanisms that would enable it to open gateways to other dimensions and how you would ensure safety.\\n\\n6. **Ethics and Consequences**: Reflect on the ethical implications of meeting a parallel version of yourself. Consider how this interaction might impact your life and the lives of others.\\n\\n7. **Research and Collaboration**: Engage with physicists, engineers, and computer scientists. Join forums or groups that discuss theoretical physics and advanced technologies.\\n\\n8. **Creative Expression**: Write a story, create art, or develop a game based on your concepts. This way, you can explore and express your ideas about parallel timelines and meeting your lookalike.\\n\\nWhile building such a machine is currently beyond our scientific capabilities, exploring the idea can yield fascinating insights and creative opportunities.' additional_kwargs={'refusal': None} response_metadata={'token_usage': {'completion_tokens': 387, 'prompt_tokens': 69, 'total_tokens': 456, 'completion_tokens_details': {'accepted_prediction_tokens': 0, 'audio_tokens': 0, 'reasoning_tokens': 0, 'rejected_prediction_tokens': 0}, 'prompt_tokens_details': {'audio_tokens': 0, 'cached_tokens': 0}}, 'model_provider': 'openai', 'model_name': 'gpt-4o-mini-2024-07-18', 'system_fingerprint': 'fp_560af6e559', 'id': 'chatcmpl-CUDDzQpYMzkNeGDThfNL8VHqSNeHE', 'service_tier': 'default', 'finish_reason': 'stop', 'logprobs': None} id='lc_run--dced7ead-8b77-4f5a-94d3-ced725318323-0' usage_metadata={'input_tokens': 69, 'output_tokens': 387, 'total_tokens': 456, 'input_token_details': {'audio': 0, 'cache_read': 0}, 'output_token_details': {'audio': 0, 'reasoning': 0}}\n"
     ]
    }
   ],
   "source": [
    "##CHAT MODELS\n",
    "from langchain_openai import ChatOpenAI\n",
    "llm=ChatOpenAI(model=\"gpt-4o-mini\")\n",
    "result=llm.invoke(messages)\n",
    "print(result)"
   ]
  },
  {
   "cell_type": "code",
   "execution_count": 12,
   "id": "b5fe522f",
   "metadata": {},
   "outputs": [
    {
     "data": {
      "text/plain": [
       "{'token_usage': {'completion_tokens': 457,\n",
       "  'prompt_tokens': 69,\n",
       "  'total_tokens': 526,\n",
       "  'completion_tokens_details': {'accepted_prediction_tokens': 0,\n",
       "   'audio_tokens': 0,\n",
       "   'reasoning_tokens': 0,\n",
       "   'rejected_prediction_tokens': 0},\n",
       "  'prompt_tokens_details': {'audio_tokens': 0, 'cached_tokens': 0}},\n",
       " 'model_provider': 'openai',\n",
       " 'model_name': 'gpt-4o-mini-2024-07-18',\n",
       " 'system_fingerprint': 'fp_51db84afab',\n",
       " 'id': 'chatcmpl-CUDCkr9JKRImCCI7zkjRpdwxwqnBF',\n",
       " 'service_tier': 'default',\n",
       " 'finish_reason': 'stop',\n",
       " 'logprobs': None}"
      ]
     },
     "execution_count": 12,
     "metadata": {},
     "output_type": "execute_result"
    }
   ],
   "source": [
    "result.response_metadata"
   ]
  },
  {
   "cell_type": "markdown",
   "id": "3d989c04",
   "metadata": {},
   "source": [
    "Tools"
   ]
  },
  {
   "cell_type": "code",
   "execution_count": null,
   "id": "71a61e05",
   "metadata": {},
   "outputs": [],
   "source": [
    "##TOOLS\n"
   ]
  }
 ],
 "metadata": {
  "kernelspec": {
   "display_name": "venv",
   "language": "python",
   "name": "python3"
  },
  "language_info": {
   "codemirror_mode": {
    "name": "ipython",
    "version": 3
   },
   "file_extension": ".py",
   "mimetype": "text/x-python",
   "name": "python",
   "nbconvert_exporter": "python",
   "pygments_lexer": "ipython3",
   "version": "3.13.5"
  }
 },
 "nbformat": 4,
 "nbformat_minor": 5
}
