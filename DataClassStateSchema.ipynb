{
 "cells": [
  {
   "cell_type": "code",
   "execution_count": 3,
   "id": "5d8fcd0f",
   "metadata": {},
   "outputs": [],
   "source": [
    "from typing_extensions import TypedDict\n",
    "from typing import Literal\n",
    "\n",
    "class TypedDictState(TypedDict):\n",
    "    name:str\n",
    "    game:Literal[\"Cricket\",\"Football\"]\n",
    "    "
   ]
  },
  {
   "cell_type": "markdown",
   "id": "60ee4a93",
   "metadata": {},
   "source": [
    "The TypedDict class allows to specify keys and their corresponding value types. And as these are type hints they can be used by static type checkers or IDEs to catch otential type-related errors before the code is run but they are not enforced at runtime\n"
   ]
  },
  {
   "cell_type": "code",
   "execution_count": 18,
   "id": "d185b6c9",
   "metadata": {},
   "outputs": [],
   "source": [
    "def play_game(state:TypedDictState):\n",
    "    print(\"--Play Game node has been called--\")\n",
    "    return {\"name\":state[\"name\"] + \" wants to play \"}\n",
    "\n",
    "def play_cricket(state:TypedDictState):\n",
    "    print(\"--Cricket node has been called--\")\n",
    "    return {\"name\":state[\"name\"]+ \"cricket\" ,\"game\":\"cricket\" }\n",
    "\n",
    "def play_football(state:TypedDictState):\n",
    "    print(\"--Football node has been called--\")\n",
    "    return {\"name\":state[\"name\"]+ \"football\",\"game\":\"football\"}\n"
   ]
  },
  {
   "cell_type": "code",
   "execution_count": 20,
   "id": "e49cf8e1",
   "metadata": {},
   "outputs": [],
   "source": [
    "import random\n",
    "def decide_play(state:TypedDictState)->Literal[\"cricket\",\"football\"]:\n",
    "    if random.random()<0.5:\n",
    "        return \"cricket\"\n",
    "    else:\n",
    "        return \"football\"\n",
    "\n"
   ]
  },
  {
   "cell_type": "code",
   "execution_count": 21,
   "id": "fb26de76",
   "metadata": {},
   "outputs": [
    {
     "data": {
      "image/png": "[encoded data removed]",
      "text/plain": [
       "<IPython.core.display.Image object>"
      ]
     },
     "metadata": {},
     "output_type": "display_data"
    }
   ],
   "source": [
    "\n",
    "from IPython.display import Image,display\n",
    "from langgraph.graph import StateGraph,START,END\n",
    "\n",
    "builder=StateGraph(TypedDictState)\n",
    "builder.add_node(\"start_play\",play_game)\n",
    "builder.add_node(\"cricket\",play_cricket)\n",
    "builder.add_node(\"football\",play_football)\n",
    "\n",
    "##Flow of the graph\n",
    "builder.add_edge(START,\"start_play\")\n",
    "builder.add_conditional_edges(\"start_play\",decide_play)\n",
    "builder.add_edge(\"cricket\",END)\n",
    "builder.add_edge(\"football\",END)\n",
    "\n",
    "\n",
    "graph_builder=builder.compile()\n",
    "\n",
    "##view the graph\n",
    "display(Image(graph_builder.get_graph().draw_mermaid_png()))\n"
   ]
  },
  {
   "cell_type": "code",
   "execution_count": 22,
   "id": "7d538672",
   "metadata": {},
   "outputs": [
    {
     "name": "stdout",
     "output_type": "stream",
     "text": [
      "--Play Game node has been called--\n",
      "--Football node has been called--\n"
     ]
    },
    {
     "data": {
      "text/plain": [
       "{'name': 'Ayush wants to play football', 'game': 'football'}"
      ]
     },
     "execution_count": 22,
     "metadata": {},
     "output_type": "execute_result"
    }
   ],
   "source": [
    "graph_builder.invoke({\"name\":\"Ayush\"})"
   ]
  },
  {
   "cell_type": "markdown",
   "id": "05cba881",
   "metadata": {},
   "source": [
    "Dataclasses"
   ]
  },
  {
   "cell_type": "code",
   "execution_count": 24,
   "id": "204428af",
   "metadata": {},
   "outputs": [],
   "source": [
    "##Dataclasses\n",
    "\n",
    "from dataclasses import dataclass\n",
    "\n",
    "@dataclass\n",
    "class DataClassState:\n",
    "    name:str\n",
    "    game:Literal[\"Cricket\",\"Football\"]\n",
    "    "
   ]
  },
  {
   "cell_type": "code",
   "execution_count": 26,
   "id": "edb6a5f1",
   "metadata": {},
   "outputs": [],
   "source": [
    "def play_game(state:DataClassState):\n",
    "    print(\"--Play Game node has been called--\")\n",
    "    return {\"name\":state.name + \" wants to play \"}\n",
    "\n",
    "def play_cricket(state:DataClassState):\n",
    "    print(\"--Cricket node has been called--\")\n",
    "    return {\"name\":state.name+ \"cricket\" ,\"game\":\"cricket\" }\n",
    "\n",
    "def play_football(state:DataClassState):\n",
    "    print(\"--Football node has been called--\")\n",
    "    return {\"name\":state.name+ \"football\",\"game\":\"football\"}\n"
   ]
  },
  {
   "cell_type": "code",
   "execution_count": 27,
   "id": "4bb7a1e5",
   "metadata": {},
   "outputs": [],
   "source": [
    "import random\n",
    "def decide_play(state:DataClassState)->Literal[\"cricket\",\"football\"]:\n",
    "    if random.random()<0.5:\n",
    "        return \"cricket\"\n",
    "    else:\n",
    "        return \"football\""
   ]
  },
  {
   "cell_type": "code",
   "execution_count": 28,
   "id": "b3a1ee50",
   "metadata": {},
   "outputs": [
    {
     "data": {
      "image/png": "[encoded data removed]",
      "text/plain": [
       "<IPython.core.display.Image object>"
      ]
     },
     "metadata": {},
     "output_type": "display_data"
    }
   ],
   "source": [
    "from IPython.display import Image,display\n",
    "from langgraph.graph import StateGraph,START,END\n",
    "\n",
    "builder=StateGraph(DataClassState)\n",
    "builder.add_node(\"start_play\",play_game)\n",
    "builder.add_node(\"cricket\",play_cricket)\n",
    "builder.add_node(\"football\",play_football)\n",
    "\n",
    "##Flow of the graph\n",
    "builder.add_edge(START,\"start_play\")\n",
    "builder.add_conditional_edges(\"start_play\",decide_play)\n",
    "builder.add_edge(\"cricket\",END)\n",
    "builder.add_edge(\"football\",END)\n",
    "\n",
    "\n",
    "graph_builder=builder.compile()\n",
    "\n",
    "##view the graph\n",
    "display(Image(graph_builder.get_graph().draw_mermaid_png()))\n"
   ]
  },
  {
   "cell_type": "code",
   "execution_count": 29,
   "id": "fe5a157d",
   "metadata": {},
   "outputs": [
    {
     "name": "stdout",
     "output_type": "stream",
     "text": [
      "--Play Game node has been called--\n",
      "--Cricket node has been called--\n"
     ]
    },
    {
     "data": {
      "text/plain": [
       "{'name': 'Ayush wants to play cricket', 'game': 'cricket'}"
      ]
     },
     "execution_count": 29,
     "metadata": {},
     "output_type": "execute_result"
    }
   ],
   "source": [
    "graph_builder.invoke(DataClassState(name=\"Ayush\",game=\"Badminton\"))"
   ]
  },
  {
   "cell_type": "markdown",
   "id": "bbaac508",
   "metadata": {},
   "source": []
  }
 ],
 "metadata": {
  "kernelspec": {
   "display_name": "venv",
   "language": "python",
   "name": "python3"
  },
  "language_info": {
   "codemirror_mode": {
    "name": "ipython",
    "version": 3
   },
   "file_extension": ".py",
   "mimetype": "text/x-python",
   "name": "python",
   "nbconvert_exporter": "python",
   "pygments_lexer": "ipython3",
   "version": "3.13.5"
  }
 },
 "nbformat": 4,
 "nbformat_minor": 5
}
