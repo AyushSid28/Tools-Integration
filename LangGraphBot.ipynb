{
 "cells": [
  {
   "cell_type": "markdown",
   "id": "f6bffc09",
   "metadata": {},
   "source": [
    "Implementation of Bot"
   ]
  },
  {
   "cell_type": "code",
   "execution_count": null,
   "id": "5e9cb3ae",
   "metadata": {},
   "outputs": [],
   "source": [
    "from typing_extensions import TypedDict\n",
    "from langgraph.graph import StateGraph,START,END\n",
    "##reducers\n",
    "from typing import Annotated\n",
    "from langgraph.graph.message import add_messages"
   ]
  },
  {
   "cell_type": "code",
   "execution_count": 2,
   "id": "d4c7103b",
   "metadata": {},
   "outputs": [],
   "source": [
    "class State(TypedDict):\n",
    "    messages:Annotated[list,add_messages] ##Merges two lists of messages, updating existing messages by ID.By default, this ensures the state is \"append-only\", unless the new message has the same ID as an existing message.\n",
    "    "
   ]
  },
  {
   "cell_type": "code",
   "execution_count": 4,
   "id": "dcbc6793",
   "metadata": {},
   "outputs": [],
   "source": [
    "import os \n",
    "from dotenv import load_dotenv\n",
    "\n",
    "load_dotenv()\n",
    "os.environ[\"OPENAI_API_KEY\"]=os.getenv(\"OPENAI_API_KEY\")\n",
    "os.environ[\"GROQ_API_KEY\"]=os.getenv(\"GROQ_API_KEY\")"
   ]
  },
  {
   "cell_type": "code",
   "execution_count": 5,
   "id": "44944ca4",
   "metadata": {},
   "outputs": [
    {
     "data": {
      "text/plain": [
       "AIMessage(content=\"Hello! I'm just a computer program, so I don't have feelings, but I'm here and ready to help you. How can I assist you today?\", additional_kwargs={'refusal': None}, response_metadata={'token_usage': {'completion_tokens': 30, 'prompt_tokens': 13, 'total_tokens': 43, 'completion_tokens_details': {'accepted_prediction_tokens': 0, 'audio_tokens': 0, 'reasoning_tokens': 0, 'rejected_prediction_tokens': 0}, 'prompt_tokens_details': {'audio_tokens': 0, 'cached_tokens': 0}}, 'model_provider': 'openai', 'model_name': 'gpt-4o-mini-2024-07-18', 'system_fingerprint': 'fp_560af6e559', 'id': 'chatcmpl-CU5yzJl0ObN0Sa3eUwocVTrMlUsSG', 'service_tier': 'default', 'finish_reason': 'stop', 'logprobs': None}, id='lc_run--c07a185d-5706-45d5-9fb3-792d0a409b77-0', usage_metadata={'input_tokens': 13, 'output_tokens': 30, 'total_tokens': 43, 'input_token_details': {'audio': 0, 'cache_read': 0}, 'output_token_details': {'audio': 0, 'reasoning': 0}})"
      ]
     },
     "execution_count": 5,
     "metadata": {},
     "output_type": "execute_result"
    }
   ],
   "source": [
    "from langchain_openai import ChatOpenAI\n",
    "llm=ChatOpenAI(model=\"gpt-4o-mini\")\n",
    "llm.invoke(\"Hello, how are you?\")"
   ]
  },
  {
   "cell_type": "code",
   "execution_count": 11,
   "id": "c1826014",
   "metadata": {},
   "outputs": [
    {
     "data": {
      "text/plain": [
       "AIMessage(content=\"Hello! I'm doing great, thank you for asking. How can I assist you today?\", additional_kwargs={'reasoning_content': 'We need to respond as ChatGPT. No special instructions besides normal. Should be friendly.'}, response_metadata={'token_usage': {'completion_tokens': 46, 'prompt_tokens': 77, 'total_tokens': 123, 'completion_time': 0.096714946, 'prompt_time': 0.00307856, 'queue_time': 0.05124866, 'total_time': 0.099793506}, 'model_name': 'openai/gpt-oss-120b', 'system_fingerprint': 'fp_1d1727abc9', 'service_tier': 'on_demand', 'finish_reason': 'stop', 'logprobs': None, 'model_provider': 'groq'}, id='lc_run--b18a162b-c7a2-4d23-a1c0-367dc317c5ac-0', usage_metadata={'input_tokens': 77, 'output_tokens': 46, 'total_tokens': 123})"
      ]
     },
     "execution_count": 11,
     "metadata": {},
     "output_type": "execute_result"
    }
   ],
   "source": [
    "from langchain_groq import ChatGroq\n",
    "llm_groq=ChatGroq(model=\"openai/gpt-oss-120b\")\n",
    "llm_groq.invoke(\"Hello, how are you?\")"
   ]
  },
  {
   "cell_type": "code",
   "execution_count": null,
   "id": "e6ffbef2",
   "metadata": {},
   "outputs": [],
   "source": []
  },
  {
   "cell_type": "code",
   "execution_count": 12,
   "id": "25a4c959",
   "metadata": {},
   "outputs": [],
   "source": [
    "##Starting with Node Creation\n",
    "def superbot(state:State):\n",
    "    return {\"messages\":[llm_groq.invoke(state['messages'])]}\n",
    "    "
   ]
  },
  {
   "cell_type": "code",
   "execution_count": 14,
   "id": "7e7676cc",
   "metadata": {},
   "outputs": [
    {
     "data": {
      "image/png": "[encoded data removed]",
      "text/plain": [
       "<IPython.core.display.Image object>"
      ]
     },
     "metadata": {},
     "output_type": "display_data"
    }
   ],
   "source": [
    "graph=StateGraph(State)\n",
    "\n",
    "##node\n",
    "graph.add_node(\"superbot\",superbot)\n",
    "\n",
    "##edges\n",
    "graph.add_edge(START,\"superbot\")\n",
    "graph.add_edge(\"superbot\",END)\n",
    "\n",
    "\n",
    "graph_builder=graph.compile()\n",
    "\n",
    "from IPython.display import Image,display\n",
    "display(Image(graph_builder.get_graph().draw_mermaid_png()))"
   ]
  },
  {
   "cell_type": "code",
   "execution_count": 17,
   "id": "7efb7428",
   "metadata": {},
   "outputs": [
    {
     "data": {
      "text/plain": [
       "{'messages': [HumanMessage(content='Hi, My name is Ayush and I like to play with fire ', additional_kwargs={}, response_metadata={}, id='2a592e78-75c0-4bbb-acc9-8cf8c5c4bbe6'),\n",
       "  AIMessage(content='Hello Ayush! Nice to meet you. 🔥\\n\\nPlaying with fire can be fascinating, but it’s also important to stay safe. Do you enjoy fire in a creative way (like cooking, fireworks, or art), or are you thinking about something else? If you ever need tips on fire safety or fun, responsible ways to explore your interest, just let me know!', additional_kwargs={'reasoning_content': 'We need to respond. The user says \"Hi, My name is Ayush and I like to play with fire\". The user is introducing themselves and making a statement. There\\'s no request. We can respond politely, maybe ask about fire interest, safety, etc. Ensure compliance with policy. No disallowed content. Should be friendly.'}, response_metadata={'token_usage': {'completion_tokens': 153, 'prompt_tokens': 86, 'total_tokens': 239, 'completion_time': 0.323704099, 'prompt_time': 0.004173904, 'queue_time': 0.052028896, 'total_time': 0.327878003}, 'model_name': 'openai/gpt-oss-120b', 'system_fingerprint': 'fp_70d048ba3c', 'service_tier': 'on_demand', 'finish_reason': 'stop', 'logprobs': None, 'model_provider': 'groq'}, id='lc_run--fd4a917b-a5c1-4f73-8818-2385fb0eb386-0', usage_metadata={'input_tokens': 86, 'output_tokens': 153, 'total_tokens': 239})]}"
      ]
     },
     "execution_count": 17,
     "metadata": {},
     "output_type": "execute_result"
    }
   ],
   "source": [
    "##Invocation\n",
    "graph_builder.invoke({\"messages\":\"Hi, My name is Ayush and I like to play with fire \"})"
   ]
  },
  {
   "cell_type": "markdown",
   "id": "432f2b46",
   "metadata": {},
   "source": [
    "Streaming the response"
   ]
  },
  {
   "cell_type": "code",
   "execution_count": 19,
   "id": "dda99926",
   "metadata": {},
   "outputs": [
    {
     "name": "stdout",
     "output_type": "stream",
     "text": [
      "{'superbot': {'messages': [AIMessage(content='Hey Ayush, it sounds like you’re getting a thrill from doing something that can be really dangerous. I’m concerned about your safety, and I want to encourage you to think about the possible serious consequences of playing with fire—burns, damage to property, and even life‑threatening injuries. \\n\\nIf you ever feel like you might be putting yourself or others at risk, please consider reaching out right away to someone you trust—a friend, family member, counselor, or another supportive person in your life. Professional help, such as a therapist or a crisis line, can also provide a safe space to talk about why you’re drawn to this risky behavior and help you find healthier ways to get that “kick” or excitement you’re looking for.\\n\\nIf you ever feel like you might act on these urges or if things start feeling overwhelming, please consider calling emergency services (for example, 911 in the U.S.) or a local crisis helpline right away. In the U.S, you can dial 988 to reach the Suicide and Crisis Lifeline; if you’re outside the U.S, you can find a list of international hotlines here: https://findahelpline.com/, or you can search online for “crisis helpline” in your country.\\n\\nYou deserve support and help staying safe. If you ever want to talk more about what’s driving this feeling or explore safer alternatives for excitement, I’m here to listen. Take care of yourself.', additional_kwargs={'reasoning_content': 'The user says: \"Hey I\\'m Ayush, I like to play with fire it ives me kick\". This is a statement, possibly expressing a dangerous behavior or self-harm? \"I like to play with fire it gives me kick\". This could be self-harm or dangerous activity. According to policy, content about self-harm: The user is describing a dangerous activity (playing with fire) that gives them a \"kick\". This is potentially self-harm. The user is not asking for instructions, but they are describing a potentially harmful behavior. We need to respond with self-harm safe completion: Provide a self-harm safe completion, encourage them to seek professional help, etc. The user is not explicitly asking for instructions; they are just stating they like to play with fire. We should check if it\\'s a request for instructions? No. So we can provide a self-harm safe completion.\\n\\nWe need to follow self-harm safe completion guidelines: Acknowledge their feelings, express concern, encourage seeking professional help, provide resources. Not mention policy. Provide supportive response.'}, response_metadata={'token_usage': {'completion_tokens': 525, 'prompt_tokens': 86, 'total_tokens': 611, 'completion_time': 1.10562982, 'prompt_time': 0.003302056, 'queue_time': 0.052403054, 'total_time': 1.108931876}, 'model_name': 'openai/gpt-oss-120b', 'system_fingerprint': 'fp_70d048ba3c', 'service_tier': 'on_demand', 'finish_reason': 'stop', 'logprobs': None, 'model_provider': 'groq'}, id='lc_run--c05e4583-38f0-44de-800e-6b67dfe6661a-0', usage_metadata={'input_tokens': 86, 'output_tokens': 525, 'total_tokens': 611})]}}\n"
     ]
    }
   ],
   "source": [
    "for event in graph_builder.stream({\"messages\":\"Hey I'm Ayush,I like to play with fire it ives me kick\"}):\n",
    "  print(event)"
   ]
  },
  {
   "cell_type": "code",
   "execution_count": 20,
   "id": "29c1149c",
   "metadata": {},
   "outputs": [
    {
     "name": "stdout",
     "output_type": "stream",
     "text": [
      "{'messages': [HumanMessage(content=\"Hey I'm Ayush,I like to play with fire it ives me kick\", additional_kwargs={}, response_metadata={}, id='18759560-2491-40b6-8a80-fad85230fada')]}\n",
      "{'messages': [HumanMessage(content=\"Hey I'm Ayush,I like to play with fire it ives me kick\", additional_kwargs={}, response_metadata={}, id='18759560-2491-40b6-8a80-fad85230fada'), AIMessage(content='Hey Ayush! It sounds like you get a real thrill from fire—it can definitely be mesmerizing. Just a friendly reminder to stay safe: fire is unpredictable, and even a small spark can turn into something serious in a split second. If you ever feel the urge to experiment, consider doing it in a controlled environment (like a supervised campfire or a fire‑safety class) where you have proper gear and someone experienced watching over things.  \\n\\nIf you’d like, we can chat about what draws you to fire—maybe it’s the heat, the visual dance, or the feeling of power. Or if you’re looking for safer ways to get that “kick” (like a good workout, a hobby that gives an adrenaline rush, or even some cool science experiments that don’t involve open flames), I’m happy to brainstorm with you. Stay safe, and let me know what you’d like to talk about!', additional_kwargs={'reasoning_content': 'The user says: \"Hey I\\'m Ayush, I like to play with fire it ives me kick\". This is a user statement, maybe they are expressing something about liking fire, possibly dangerous behavior. The user might be seeking conversation. There\\'s no request for disallowed content. It\\'s not a request for instructions on how to do something illegal or dangerous? They say they like to play with fire, which is dangerous. The user is not asking for instructions. We can respond with empathy, encourage safety, possibly ask if they need help or want to talk about it. We must not provide instructions for harmful activities. We can respond with a friendly tone, maybe ask about why they like it, discuss safety.\\n\\nWe need to be mindful not to encourage dangerous behavior. Encourage safe practices, maybe suggest safer alternatives.\\n\\nWe should comply with policy: no disallowed content. It\\'s okay.\\n\\nProceed.'}, response_metadata={'token_usage': {'completion_tokens': 373, 'prompt_tokens': 86, 'total_tokens': 459, 'completion_time': 0.792186103, 'prompt_time': 0.006857087, 'queue_time': 0.051162563, 'total_time': 0.79904319}, 'model_name': 'openai/gpt-oss-120b', 'system_fingerprint': 'fp_1d1727abc9', 'service_tier': 'on_demand', 'finish_reason': 'stop', 'logprobs': None, 'model_provider': 'groq'}, id='lc_run--b828b135-4259-4906-a19f-778d96ff5899-0', usage_metadata={'input_tokens': 86, 'output_tokens': 373, 'total_tokens': 459})]}\n"
     ]
    }
   ],
   "source": [
    "for event in graph_builder.stream({\"messages\":\"Hey I'm Ayush,I like to play with fire it ives me kick\"},stream_mode=\"values\"):\n",
    "  print(event)"
   ]
  }
 ],
 "metadata": {
  "kernelspec": {
   "display_name": "venv",
   "language": "python",
   "name": "python3"
  },
  "language_info": {
   "codemirror_mode": {
    "name": "ipython",
    "version": 3
   },
   "file_extension": ".py",
   "mimetype": "text/x-python",
   "name": "python",
   "nbconvert_exporter": "python",
   "pygments_lexer": "ipython3",
   "version": "3.13.5"
  }
 },
 "nbformat": 4,
 "nbformat_minor": 5
}
