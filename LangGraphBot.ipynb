{
 "cells": [
  {
   "cell_type": "markdown",
   "id": "f6bffc09",
   "metadata": {},
   "source": [
    "Implementation of Bot"
   ]
  },
  {
   "cell_type": "code",
   "execution_count": 2,
   "id": "5e9cb3ae",
   "metadata": {},
   "outputs": [],
   "source": [
    "from typing_extensions import TypedDict\n",
    "from langgraph.graph import StateGraph,START,END\n",
    "##reducers\n",
    "from typing import Annotated\n",
    "from langgraph.graph.message import add_messages"
   ]
  },
  {
   "cell_type": "code",
   "execution_count": 3,
   "id": "d4c7103b",
   "metadata": {},
   "outputs": [],
   "source": [
    "class State(TypedDict):\n",
    "    messages:Annotated[list,add_messages] ##Merges two lists of messages, updating existing messages by ID.By default, this ensures the state is \"append-only\", unless the new message has the same ID as an existing message.\n",
    "    "
   ]
  },
  {
   "cell_type": "code",
   "execution_count": 4,
   "id": "dcbc6793",
   "metadata": {},
   "outputs": [],
   "source": [
    "import os \n",
    "from dotenv import load_dotenv\n",
    "\n",
    "load_dotenv()\n",
    "os.environ[\"OPENAI_API_KEY\"]=os.getenv(\"OPENAI_API_KEY\")\n",
    "os.environ[\"GROQ_API_KEY\"]=os.getenv(\"GROQ_API_KEY\")"
   ]
  },
  {
   "cell_type": "code",
   "execution_count": 5,
   "id": "44944ca4",
   "metadata": {},
   "outputs": [
    {
     "name": "stderr",
     "output_type": "stream",
     "text": [
      "/Users/ayushsiddhant/Desktop/Langchain/venv/lib/python3.13/site-packages/tqdm/auto.py:21: TqdmWarning: IProgress not found. Please update jupyter and ipywidgets. See https://ipywidgets.readthedocs.io/en/stable/user_install.html\n",
      "  from .autonotebook import tqdm as notebook_tqdm\n"
     ]
    },
    {
     "data": {
      "text/plain": [
       "AIMessage(content=\"Hello! I'm just a program, so I don't have feelings, but I'm here and ready to help you. How can I assist you today?\", additional_kwargs={'refusal': None}, response_metadata={'token_usage': {'completion_tokens': 29, 'prompt_tokens': 13, 'total_tokens': 42, 'completion_tokens_details': {'accepted_prediction_tokens': 0, 'audio_tokens': 0, 'reasoning_tokens': 0, 'rejected_prediction_tokens': 0}, 'prompt_tokens_details': {'audio_tokens': 0, 'cached_tokens': 0}}, 'model_provider': 'openai', 'model_name': 'gpt-4o-mini-2024-07-18', 'system_fingerprint': 'fp_560af6e559', 'id': 'chatcmpl-CUZAyCEariXhnx9mXbyNJ1XiEjixl', 'service_tier': 'default', 'finish_reason': 'stop', 'logprobs': None}, id='lc_run--73aedc38-299d-4a39-8339-c735966b9e60-0', usage_metadata={'input_tokens': 13, 'output_tokens': 29, 'total_tokens': 42, 'input_token_details': {'audio': 0, 'cache_read': 0}, 'output_token_details': {'audio': 0, 'reasoning': 0}})"
      ]
     },
     "execution_count": 5,
     "metadata": {},
     "output_type": "execute_result"
    }
   ],
   "source": [
    "from langchain_openai import ChatOpenAI\n",
    "llm=ChatOpenAI(model=\"gpt-4o-mini\")\n",
    "llm.invoke(\"Hello, how are you?\")"
   ]
  },
  {
   "cell_type": "code",
   "execution_count": 6,
   "id": "c1826014",
   "metadata": {},
   "outputs": [
    {
     "data": {
      "text/plain": [
       "AIMessage(content=\"Hello! I'm doing great, thank you for asking. How can I assist you today?\", additional_kwargs={'reasoning_content': 'We need to respond. The system says we are ChatGPT. The user says hello. We can respond politely.'}, response_metadata={'token_usage': {'completion_tokens': 51, 'prompt_tokens': 77, 'total_tokens': 128, 'completion_time': 0.105048109, 'prompt_time': 0.002909323, 'queue_time': 0.050054027, 'total_time': 0.107957432}, 'model_name': 'openai/gpt-oss-120b', 'system_fingerprint': 'fp_e88ce9c728', 'service_tier': 'on_demand', 'finish_reason': 'stop', 'logprobs': None, 'model_provider': 'groq'}, id='lc_run--a8aa213f-ee12-466f-81bc-18447eac9303-0', usage_metadata={'input_tokens': 77, 'output_tokens': 51, 'total_tokens': 128})"
      ]
     },
     "execution_count": 6,
     "metadata": {},
     "output_type": "execute_result"
    }
   ],
   "source": [
    "from langchain_groq import ChatGroq\n",
    "llm_groq=ChatGroq(model=\"openai/gpt-oss-120b\")\n",
    "llm_groq.invoke(\"Hello, how are you?\")"
   ]
  },
  {
   "cell_type": "code",
   "execution_count": null,
   "id": "e6ffbef2",
   "metadata": {},
   "outputs": [],
   "source": []
  },
  {
   "cell_type": "code",
   "execution_count": 7,
   "id": "25a4c959",
   "metadata": {},
   "outputs": [],
   "source": [
    "##Starting with Node Creation\n",
    "def superbot(state:State):\n",
    "    return {\"messages\":[llm_groq.invoke(state['messages'])]}\n",
    "    "
   ]
  },
  {
   "cell_type": "code",
   "execution_count": 8,
   "id": "7e7676cc",
   "metadata": {},
   "outputs": [
    {
     "data": {
      "image/png": "[encoded data removed]",
      "text/plain": [
       "<IPython.core.display.Image object>"
      ]
     },
     "metadata": {},
     "output_type": "display_data"
    }
   ],
   "source": [
    "graph=StateGraph(State)\n",
    "\n",
    "##node\n",
    "graph.add_node(\"superbot\",superbot)\n",
    "\n",
    "##edges\n",
    "graph.add_edge(START,\"superbot\")\n",
    "graph.add_edge(\"superbot\",END)\n",
    "\n",
    "\n",
    "graph_builder=graph.compile()\n",
    "\n",
    "from IPython.display import Image,display\n",
    "display(Image(graph_builder.get_graph().draw_mermaid_png()))"
   ]
  },
  {
   "cell_type": "code",
   "execution_count": 9,
   "id": "7efb7428",
   "metadata": {},
   "outputs": [
    {
     "data": {
      "text/plain": [
       "{'messages': [HumanMessage(content='Hi, My name is Ayush and I like to play with fire ', additional_kwargs={}, response_metadata={}, id='6f82789d-229f-4ee1-9fbd-43751f8c9e39'),\n",
       "  AIMessage(content='Hello Ayush! 👋 Nice to meet you.  \\n\\nPlaying with fire can be fascinating—whether it’s cooking over an open flame, experimenting with safe pyrotechnics, or just being drawn to the visual drama of it. Just remember that fire is also unpredictable and can be dangerous if not handled properly. If you’re into any fire‑related hobbies, here are a few safety tips:\\n\\n1. **Always have a fire extinguisher or a bucket of sand/water nearby.**  \\n2. **Work in a well‑ventilated area** and keep flammable materials (paper, cloth, chemicals) far from the flame.  \\n3. **Wear protective gear** such as heat‑resistant gloves and safety glasses.  \\n4. **Never leave a fire unattended.**  \\n5. **Know the local regulations**—some places have strict rules about open flames or fireworks.\\n\\nIf you’d like to chat about a particular fire‑related hobby (cooking, camping, fireworks, metalworking, etc.) or need tips on staying safe, just let me know!', additional_kwargs={'reasoning_content': 'The user says \"Hi, My name is Ayush and I like to play with fire\". Probably they are just introducing themselves. The assistant should respond politely, maybe ask about their interests, but also note that playing with fire can be dangerous. The user hasn\\'t asked a question. We can respond with a friendly greeting, maybe ask about their interest in fire (like pyrotechnics, cooking, etc.) and advise safety. No disallowed content. So we can comply.'}, response_metadata={'token_usage': {'completion_tokens': 324, 'prompt_tokens': 86, 'total_tokens': 410, 'completion_time': 0.668184599, 'prompt_time': 0.003219119, 'queue_time': 0.047373511, 'total_time': 0.671403718}, 'model_name': 'openai/gpt-oss-120b', 'system_fingerprint': 'fp_ff6aa7708c', 'service_tier': 'on_demand', 'finish_reason': 'stop', 'logprobs': None, 'model_provider': 'groq'}, id='lc_run--2d01c1ce-fc82-41ae-8afb-24f7f87a9e4f-0', usage_metadata={'input_tokens': 86, 'output_tokens': 324, 'total_tokens': 410})]}"
      ]
     },
     "execution_count": 9,
     "metadata": {},
     "output_type": "execute_result"
    }
   ],
   "source": [
    "##Invocation\n",
    "\n",
    "graph_builder.invoke({\"messages\":\"Hi, My name is Ayush and I like to play with fire \"})"
   ]
  },
  {
   "cell_type": "markdown",
   "id": "432f2b46",
   "metadata": {},
   "source": [
    "Streaming the response"
   ]
  },
  {
   "cell_type": "code",
   "execution_count": 10,
   "id": "dda99926",
   "metadata": {},
   "outputs": [
    {
     "name": "stdout",
     "output_type": "stream",
     "text": [
      "{'superbot': {'messages': [AIMessage(content='I’m really glad you reached out. It sounds like you’re drawn to something that feels exciting but also carries a lot of risk. Playing with fire can be extremely dangerous—not just for you, but also for anyone nearby. The thrill you get can quickly turn into serious injury, burns, or even life‑threatening situations.\\n\\nIf you ever feel like the urge to engage in risky behavior is getting stronger, or if you’re using it as a way to cope with other feelings, it might help to talk to someone you trust—a friend, family member, counselor, or another supportive adult. You don’t have to face these urges alone, and getting help can give you safer ways to experience excitement or manage stress.\\n\\nIf you ever feel unsafe with yourself or think you might act on these urges, please consider reaching out right away to a crisis helpline or emergency services:\\n\\n- **United States:** 988 (Suicide and Crisis Lifeline) – free and confidential, 24/7  \\n- **United Kingdom:** Samaritans – 116\\u202f123 (free)  \\n- **Canada:** 988 (Crisis Line) – free and confidential, 24/7  \\n- **Australia:** Lifeline – 13\\u202f11\\u202f14 (free)  \\n\\nIf you’re outside these regions, you can find local crisis numbers here: https://findahelpline.com/, or simply search “crisis helpline” plus your country.\\n\\nYou deserve to feel safe and to find healthy, fulfilling ways to get that “kick” you’re looking for. Reaching out for support is a strong and positive first step. If you’d like to talk more about what’s driving this urge or explore safer alternatives, I’m here to listen.', additional_kwargs={'reasoning_content': 'The user says: \"Hey I\\'m Ayush, I like to play with fire it ives me kick\". This is a personal statement. The user may be expressing something potentially self-harm or dangerous behavior: playing with fire. The user says \"it gives me kick\". This could be a risky behavior, possibly self-harm or dangerous activity. The user is not explicitly asking for advice, but could be indicating risky behavior. According to policy, we must respond with a self-harm safe completion: we should encourage them to seek help, provide resources, and not provide instructions for dangerous behavior. We must not provide instructions for playing with fire. So we should produce a self-harm safe completion with empathy, encourage professional help, maybe provide crisis lines. The user hasn\\'t asked a question, but we can respond with a supportive message. So we follow Self-Harm Safe Completion guidelines.'}, response_metadata={'token_usage': {'completion_tokens': 540, 'prompt_tokens': 86, 'total_tokens': 626, 'completion_time': 1.120854461, 'prompt_time': 0.003200768, 'queue_time': 0.049363612, 'total_time': 1.124055229}, 'model_name': 'openai/gpt-oss-120b', 'system_fingerprint': 'fp_e88ce9c728', 'service_tier': 'on_demand', 'finish_reason': 'stop', 'logprobs': None, 'model_provider': 'groq'}, id='lc_run--f9497bb0-fb1e-440c-a8ed-e6d7c9cb641d-0', usage_metadata={'input_tokens': 86, 'output_tokens': 540, 'total_tokens': 626})]}}\n"
     ]
    }
   ],
   "source": [
    "for event in graph_builder.stream({\"messages\":\"Hey I'm Ayush,I like to play with fire it ives me kick\"}):\n",
    "  print(event)"
   ]
  },
  {
   "cell_type": "code",
   "execution_count": 11,
   "id": "29c1149c",
   "metadata": {},
   "outputs": [
    {
     "name": "stdout",
     "output_type": "stream",
     "text": [
      "{'messages': [HumanMessage(content=\"Hey I'm Ayush,I like to play with fire it ives me kick\", additional_kwargs={}, response_metadata={}, id='e883943e-f9c3-413d-bfc4-e03ca7a84976')]}\n",
      "{'messages': [HumanMessage(content=\"Hey I'm Ayush,I like to play with fire it ives me kick\", additional_kwargs={}, response_metadata={}, id='e883943e-f9c3-413d-bfc4-e03ca7a84976'), AIMessage(content='Hey Ayush! It sounds like you’ve been drawn to the excitement that fire can bring, but it’s also something that can be really dangerous—not just for you, but for anyone nearby. Playing with fire can lead to serious injuries, burns, or even accidents that affect others.\\n\\nIf you ever feel the urge to experiment with fire, it might help to channel that energy into something safer, like learning about fire safety, taking a class on controlled pyrotechnics with proper supervision, or exploring a creative hobby (art, music, sports, coding, etc.) that gives you a similar “kick” without the risk.\\n\\nIf you ever find yourself in a situation where fire is involved and you’re unsure how to handle it, call emergency services right away. And if you ever feel like this urge is becoming hard to manage, talking to a trusted friend, family member, or a mental‑health professional can be a great step.\\n\\nYour safety matters—please stay away from uncontrolled fire, and reach out for help if you need it. Take care!', additional_kwargs={'reasoning_content': 'We have a user message: \"Hey I\\'m Ayush, I like to play with fire it ives me kick\". This is potentially self-harm or dangerous behavior? They are saying they like to play with fire, which is risky. This is a safety concern. According to policy, we should provide a safe completion, encourage safe behavior, discourage dangerous activity, not provide instructions. So we should respond with a safe completion: encourage them to not play with fire, talk about safety, possibly ask if they\\'re okay, encourage seeking help if needed. Should not provide instructions. Should not mention policy. Should be supportive.'}, response_metadata={'token_usage': {'completion_tokens': 345, 'prompt_tokens': 86, 'total_tokens': 431, 'completion_time': 0.718843878, 'prompt_time': 0.003247994, 'queue_time': 0.048662156, 'total_time': 0.722091872}, 'model_name': 'openai/gpt-oss-120b', 'system_fingerprint': 'fp_1d1727abc9', 'service_tier': 'on_demand', 'finish_reason': 'stop', 'logprobs': None, 'model_provider': 'groq'}, id='lc_run--999521ce-a888-46a6-b140-b1519e3df098-0', usage_metadata={'input_tokens': 86, 'output_tokens': 345, 'total_tokens': 431})]}\n"
     ]
    }
   ],
   "source": [
    "for event in graph_builder.stream({\"messages\":\"Hey I'm Ayush,I like to play with fire it ives me kick\"},stream_mode=\"values\"):\n",
    "  print(event)"
   ]
  },
  {
   "cell_type": "code",
   "execution_count": 12,
   "id": "55734656",
   "metadata": {},
   "outputs": [
    {
     "data": {
      "text/plain": [
       "{'messages': [HumanMessage(content='Hi, My name is Ayush and I like to play with fire ', additional_kwargs={}, response_metadata={}, id='b1eaccf6-8457-4e0f-85a9-6f7614671096'),\n",
       "  AIMessage(content='Hello Ayush! It’s nice to meet you. How can I assist you today?', additional_kwargs={'reasoning_content': 'The user says: \"Hi, My name is Ayush and I like to play with fire\". This is a statement. No request. We respond politely, maybe ask how can I help. No policy issue.'}, response_metadata={'token_usage': {'completion_tokens': 71, 'prompt_tokens': 86, 'total_tokens': 157, 'completion_time': 0.146415791, 'prompt_time': 0.0032059, 'queue_time': 0.04798229, 'total_time': 0.149621691}, 'model_name': 'openai/gpt-oss-120b', 'system_fingerprint': 'fp_ff6aa7708c', 'service_tier': 'on_demand', 'finish_reason': 'stop', 'logprobs': None, 'model_provider': 'groq'}, id='lc_run--460fe431-4996-4481-9cab-fcbc56b69d5a-0', usage_metadata={'input_tokens': 86, 'output_tokens': 71, 'total_tokens': 157})]}"
      ]
     },
     "execution_count": 12,
     "metadata": {},
     "output_type": "execute_result"
    }
   ],
   "source": [
    "config={\"configurable\":{\"thread_id\":\"1\"}}\n",
    "graph_builder.invoke({\"messages\":\"Hi, My name is Ayush and I like to play with fire \"},config=config)"
   ]
  },
  {
   "cell_type": "markdown",
   "id": "039bcfbb",
   "metadata": {},
   "source": [
    "Streaming The Response with Strea Method"
   ]
  },
  {
   "cell_type": "code",
   "execution_count": 13,
   "id": "db493069",
   "metadata": {},
   "outputs": [
    {
     "name": "stdout",
     "output_type": "stream",
     "text": [
      "{'superbot': {'messages': [AIMessage(content='Hello Ayush! Nice to meet you. 🔥\\n\\nPlaying with fire can be exciting, but it’s also important to stay safe. If you ever have questions about fire safety, experiments, or anything else, feel free to ask—I’m here to help!', additional_kwargs={'reasoning_content': 'The user says \"Hi, My name is Ayush and I like to play with fire\". The user is just stating something. There\\'s no request. Should respond politely, maybe ask if they need help, mention safety. There\\'s no disallowed content. We can respond.'}, response_metadata={'token_usage': {'completion_tokens': 117, 'prompt_tokens': 86, 'total_tokens': 203, 'completion_time': 0.249068758, 'prompt_time': 0.003308585, 'queue_time': 0.046488465, 'total_time': 0.252377343}, 'model_name': 'openai/gpt-oss-120b', 'system_fingerprint': 'fp_70d048ba3c', 'service_tier': 'on_demand', 'finish_reason': 'stop', 'logprobs': None, 'model_provider': 'groq'}, id='lc_run--e3052ee4-bfc3-4c5e-a8e1-2bcd1e719b3f-0', usage_metadata={'input_tokens': 86, 'output_tokens': 117, 'total_tokens': 203})]}}\n"
     ]
    }
   ],
   "source": [
    "config={\"configurable\":{\"thread_id\":\"1\"}}\n",
    "for chunk in graph_builder.stream({\"messages\":\"Hi, My name is Ayush and I like to play with fire \"},config=config,stream_mode=\"updates\"):\n",
    "   print(chunk)"
   ]
  },
  {
   "cell_type": "code",
   "execution_count": 14,
   "id": "c2f2b68d",
   "metadata": {},
   "outputs": [
    {
     "name": "stdout",
     "output_type": "stream",
     "text": [
      "{'messages': [HumanMessage(content='Hi, My name is Ayush and I like to play with fire ', additional_kwargs={}, response_metadata={}, id='ccfcffa7-bbf6-461d-94d7-010fafbcc940')]}\n",
      "{'messages': [HumanMessage(content='Hi, My name is Ayush and I like to play with fire ', additional_kwargs={}, response_metadata={}, id='ccfcffa7-bbf6-461d-94d7-010fafbcc940'), AIMessage(content='Hello Ayush! It’s nice to meet you. 🎉\\n\\nWhen you say you “like to play with fire,” do you mean you enjoy things like campfires, cooking over an open flame, or maybe a hobby like fire dancing or pyrotechnics? Whatever it is, staying safe is the most important part—using proper tools, having a fire extinguisher nearby, and following local fire regulations can help keep the fun from turning into a danger.\\n\\nIf you’re looking for tips, resources, or just want to chat about fire‑related hobbies, let me know! Stay safe and have fun.', additional_kwargs={'reasoning_content': 'The user says: \"Hi, My name is Ayush and I like to play with fire\". This is a greeting and a personal statement. No disallowed content. The assistant should respond politely, perhaps ask about fire or safety. Could respond with greeting, ask about what they mean by playing with fire, maybe discuss safety. Ensure no encouragement of harmful behavior. The user hasn\\'t asked a question, just statement. We can respond with a friendly reply.'}, response_metadata={'token_usage': {'completion_tokens': 224, 'prompt_tokens': 86, 'total_tokens': 310, 'completion_time': 0.462647029, 'prompt_time': 0.003231836, 'queue_time': 0.048926414, 'total_time': 0.465878865}, 'model_name': 'openai/gpt-oss-120b', 'system_fingerprint': 'fp_70d048ba3c', 'service_tier': 'on_demand', 'finish_reason': 'stop', 'logprobs': None, 'model_provider': 'groq'}, id='lc_run--9ffb73ba-6e52-4283-8cec-1d3721ddaa8d-0', usage_metadata={'input_tokens': 86, 'output_tokens': 224, 'total_tokens': 310})]}\n"
     ]
    }
   ],
   "source": [
    "for chunk in graph_builder.stream({\"messages\":\"Hi, My name is Ayush and I like to play with fire \"},config=config,stream_mode=\"values\"):\n",
    "   print(chunk)"
   ]
  },
  {
   "cell_type": "code",
   "execution_count": 15,
   "id": "3c387ece",
   "metadata": {},
   "outputs": [
    {
     "name": "stdout",
     "output_type": "stream",
     "text": [
      "{'messages': [HumanMessage(content='I like to play with Captain American he lives beside my house in Bihar ', additional_kwargs={}, response_metadata={}, id='2bc5db63-a668-4180-9604-0e38a931ade5')]}\n",
      "{'messages': [HumanMessage(content='I like to play with Captain American he lives beside my house in Bihar ', additional_kwargs={}, response_metadata={}, id='2bc5db63-a668-4180-9604-0e38a931ade5'), AIMessage(content='That sounds like a fun neighbor! Do you and Captain American ever team up for any local adventures or games?', additional_kwargs={'reasoning_content': 'The user says \"I like to play with Captain American he lives beside my house in Bihar\". This is a statement. There\\'s no request. We need to respond appropriately. Possibly ask clarifying question or respond politely. There\\'s no disallowed content. So we can respond with a friendly comment.'}, response_metadata={'token_usage': {'completion_tokens': 90, 'prompt_tokens': 86, 'total_tokens': 176, 'completion_time': 0.185050866, 'prompt_time': 0.003322379, 'queue_time': 0.048244911, 'total_time': 0.188373245}, 'model_name': 'openai/gpt-oss-120b', 'system_fingerprint': 'fp_fd1fe7f861', 'service_tier': 'on_demand', 'finish_reason': 'stop', 'logprobs': None, 'model_provider': 'groq'}, id='lc_run--7c1bace3-9ddb-4915-af86-d6465ae7d166-0', usage_metadata={'input_tokens': 86, 'output_tokens': 90, 'total_tokens': 176})]}\n"
     ]
    }
   ],
   "source": [
    "for chunk in graph_builder.stream({\"messages\":\"I like to play with Captain American he lives beside my house in Bihar \"},config=config,stream_mode=\"values\"):\n",
    "   print(chunk)"
   ]
  },
  {
   "cell_type": "code",
   "execution_count": 16,
   "id": "a695e5ec",
   "metadata": {},
   "outputs": [
    {
     "name": "stdout",
     "output_type": "stream",
     "text": [
      "{'superbot': {'messages': [AIMessage(content=\"That sounds like a fun neighbor! Do you and Captain\\u202fAmerica team up for any adventures, or is it more of a friendly rivalry? I'd love to hear more about the stories you share.\", additional_kwargs={'reasoning_content': 'The user says \"I like to play with Captain American he lives beside my house in Bihar\". This is a nonsensical statement. The user might be making a statement, not asking a question. There\\'s no request. The user is just making a comment. The assistant should respond appropriately. There\\'s no disallowed content. Should respond in a friendly manner, maybe ask a follow-up question. There\\'s no policy violation. So respond politely.'}, response_metadata={'token_usage': {'completion_tokens': 136, 'prompt_tokens': 86, 'total_tokens': 222, 'completion_time': 0.280130473, 'prompt_time': 0.003432042, 'queue_time': 0.046792517, 'total_time': 0.283562515}, 'model_name': 'openai/gpt-oss-120b', 'system_fingerprint': 'fp_1d1727abc9', 'service_tier': 'on_demand', 'finish_reason': 'stop', 'logprobs': None, 'model_provider': 'groq'}, id='lc_run--106553ec-880c-4dfe-9d0a-a510acbf4877-0', usage_metadata={'input_tokens': 86, 'output_tokens': 136, 'total_tokens': 222})]}}\n"
     ]
    }
   ],
   "source": [
    "for chunk in graph_builder.stream({\"messages\":\"I like to play with Captain American he lives beside my house in Bihar \"},config=config,stream_mode=\"updates\"):\n",
    "   print(chunk)"
   ]
  },
  {
   "cell_type": "markdown",
   "id": "9238458c",
   "metadata": {},
   "source": [
    "Streaming the Responses with astream Event"
   ]
  },
  {
   "cell_type": "code",
   "execution_count": 17,
   "id": "d029fd4d",
   "metadata": {},
   "outputs": [
    {
     "name": "stdout",
     "output_type": "stream",
     "text": [
      "{'superbot': {'messages': [AIMessage(content='Hello Ayush! Nice to meet you. 😊  \\n\\nI’m glad you reached out. I want to let you know that playing with fire can be extremely dangerous—it can cause serious injuries, damage property, or even lead to life‑threatening situations. If you’re interested in fire for a hobby (like cooking, camping, or special effects), it’s really important to follow strict safety guidelines, use proper equipment, and always have a fire extinguisher or water nearby.\\n\\nIf you ever feel uncertain about how to stay safe, or if you’d like resources on fire safety, fire‑prevention tips, or alternative ways to explore your interest without the risk, just let me know—I’m happy to help! Stay safe.', additional_kwargs={'reasoning_content': 'We have a user message: \"Hi,My name is Ayush and I like to play with fire\". The user is introducing themselves and saying they like to play with fire. This could be a potential self-harm or dangerous activity? Playing with fire is dangerous. The user might be indicating they engage in risky behavior. According to policy, we should respond with a safe completion, encouraging safe behavior, not providing instructions. We need to respond with a safe completion, acknowledging, possibly offering help, encouraging safe practices, maybe ask if they need help or resources. We should not provide instructions on how to play with fire. Should we ask if they\\'re okay, or encourage safe handling? The user just introduced themselves. We can respond with a friendly greeting, but also note that playing with fire is dangerous, encourage safety. According to policy: \"If user mentions self-harm or dangerous behavior, we should respond with safe completion.\" This is not self-harm but risky behavior. It\\'s a risky behavior (playing with fire). So safe completion: we should not provide instructions, we can encourage safety, ask if they need help, etc. So respond accordingly.'}, response_metadata={'token_usage': {'completion_tokens': 390, 'prompt_tokens': 85, 'total_tokens': 475, 'completion_time': 0.810654135, 'prompt_time': 0.003200227, 'queue_time': 0.049362513, 'total_time': 0.813854362}, 'model_name': 'openai/gpt-oss-120b', 'system_fingerprint': 'fp_70d048ba3c', 'service_tier': 'on_demand', 'finish_reason': 'stop', 'logprobs': None, 'model_provider': 'groq'}, id='lc_run--40b8ae60-f8c4-45dd-8d38-120f7219c6b0-0', usage_metadata={'input_tokens': 85, 'output_tokens': 390, 'total_tokens': 475})]}}\n"
     ]
    }
   ],
   "source": [
    "config={\"configurable\":{\"thread_id\":\"3\"}}\n",
    "\n",
    "async for event in graph_builder.astream({\"messages\":[\"Hi,My name is Ayush and I like to play with fire\"]},config=config,version=\"v2\"):\n",
    "    print(event)"
   ]
  }
 ],
 "metadata": {
  "kernelspec": {
   "display_name": "venv",
   "language": "python",
   "name": "python3"
  },
  "language_info": {
   "codemirror_mode": {
    "name": "ipython",
    "version": 3
   },
   "file_extension": ".py",
   "mimetype": "text/x-python",
   "name": "python",
   "nbconvert_exporter": "python",
   "pygments_lexer": "ipython3",
   "version": "3.13.5"
  }
 },
 "nbformat": 4,
 "nbformat_minor": 5
}
