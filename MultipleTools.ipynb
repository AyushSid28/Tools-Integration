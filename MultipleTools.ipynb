{
 "cells": [
  {
   "cell_type": "markdown",
   "id": "005ea659",
   "metadata": {},
   "source": [
    "Chatbot with Tools such as Arxiv and Wikipedia and Google Search"
   ]
  },
  {
   "cell_type": "code",
   "execution_count": 1,
   "id": "a46d204d",
   "metadata": {},
   "outputs": [],
   "source": [
    "from langchain_community.tools import ArxivQueryRun,WikipediaQueryRun\n",
    "from langchain_community.utilities import WikipediaAPIWrapper,ArxivAPIWrapper"
   ]
  },
  {
   "cell_type": "code",
   "execution_count": 4,
   "id": "2b1e7757",
   "metadata": {},
   "outputs": [
    {
     "name": "stdout",
     "output_type": "stream",
     "text": [
      "arxiv\n"
     ]
    }
   ],
   "source": [
    "api_wrapper_arxiv=ArxivAPIWrapper(top_k_results=2,doc_content_chars_max=500)\n",
    "arxiv=ArxivQueryRun(api_wrapper=api_wrapper_arxiv)\n",
    "print(arxiv.name)"
   ]
  },
  {
   "cell_type": "code",
   "execution_count": 5,
   "id": "3bdf0886",
   "metadata": {},
   "outputs": [
    {
     "data": {
      "text/plain": [
       "'Published: 2025-04-03\\nTitle: A Review of Prototyping in XR: Linking Extended Reality to Digital Fabrication\\nAuthors: Bixun Chen, Shaun Macdonald, Moataz Attallah, Paul Chapman, Rami Ghannam\\nSummary: Extended Reality (XR) has expanded the horizons of entertainment and social\\nlife and shows great potential in the manufacturing industry. Prototyping in XR\\ncan help designers make initial proposals and iterations at low cost before\\nmanufacturers and investors decide whether to invest in research, dev'"
      ]
     },
     "execution_count": 5,
     "metadata": {},
     "output_type": "execute_result"
    }
   ],
   "source": [
    "arxiv.invoke(\"What is the latest research on LangChain?\")"
   ]
  },
  {
   "cell_type": "code",
   "execution_count": 6,
   "id": "777362f2",
   "metadata": {},
   "outputs": [
    {
     "data": {
      "text/plain": [
       "'wikipedia'"
      ]
     },
     "execution_count": 6,
     "metadata": {},
     "output_type": "execute_result"
    }
   ],
   "source": [
    "api_wrapper_wikipedia=WikipediaAPIWrapper(top_k_results=1,doc_content_chars_max=500)\n",
    "wiki=WikipediaQueryRun(api_wrapper=api_wrapper_wikipedia)\n",
    "wiki.name"
   ]
  },
  {
   "cell_type": "code",
   "execution_count": 7,
   "id": "2cf86105",
   "metadata": {},
   "outputs": [
    {
     "data": {
      "text/plain": [
       "'Page: Closed-ended question\\nSummary: A closed-ended question is any question for which a researcher provides research participants with options from which to choose a response. Closed-ended questions are sometimes phrased as a statement that requires a response.\\nA closed-ended question contrasts with an open-ended question, which cannot easily be answered with specific information.'"
      ]
     },
     "execution_count": 7,
     "metadata": {},
     "output_type": "execute_result"
    }
   ],
   "source": [
    "wiki.invoke(\"What is the capital of France?\")"
   ]
  },
  {
   "cell_type": "code",
   "execution_count": 10,
   "id": "deee8448",
   "metadata": {},
   "outputs": [
    {
     "data": {
      "text/plain": [
       "[{'title': '“Trophy was nowhere to be found,” Tilak Varma spills ...',\n",
       "  'url': 'https://circleofcricket.com/category/Latest_news/100214/trophy-was-nowhere-to-be-found-tilak-varma-spills-beans-on-indias-stand-off-with-mohsin-naqvi-after-asia-cup-final-win',\n",
       "  'content': \"The arch-rivals faced each other thrice in the Asia Cup 2025 and India emerged victorious on all occasions. Tilak Varma starred with the bat in the title clash, returning with an unbeaten knock of 69 from 53 balls to pave the way for India’s five-wicket win.\\n\\nThanks to Tilak’s innings, India chases down the target of 147 with two deliveries to spare and clinched the continental showpiece for the record-extending ninth time. [...] Circle Of Cricket\\nCircle Of Cricket\\n\\n## “Trophy was nowhere to be found,” Tilak Varma spills beans on India's stand-off with Mohsin Naqvi after Asia Cup final win\\n\\n## Team India had refused to collect the Asia Cup trophy from ACC and PCB chief Mohsin Naqvi.\\n\\nBy Salman Anjum - 25 Oct, 2025 [...] Team India celebrating their Asia Cup triumph without the trophy | GettyThe Asia Cup 2025 concluded with a massive controversy last month as Team India refused to receive their winners' trophy and medallions from ACC and PCB chief Mohsin Naqvi, who is also Pakistan’s Interior Minister and posted anti-India sentiments on social media throughout the tournament.\",\n",
       "  'score': 0.57408494},\n",
       " {'title': 'Recent Match Report - Australia vs India 3rd ODI 2025',\n",
       "  'url': 'https://www.espn.com/cricket/series/23265/report/1478906/australia-vs-india-3rd-odi-india-in-australia-2025-26',\n",
       "  'content': 'Australia 1 Mitchell Marsh (capt), 2 Travis Head, 3 Matthew Short, 4 Matthew Renshaw, 4 Alex Carey (wk), 6 Cooper Connolly, 7 Mitchell Owen, 8 Mitchell Starc, 9 Nathan Ellis, 10 Adam Zampa, 11 Josh Hazlewood\\n\\nIndia 1 Shubman Gill (capt), 2 Rohit Sharma, 3 Virat Kohli, 4 Shreyas Iyer, 5 Axar Patel, 6 KL Rahul (wk), 7 Washington Sundar, 8 Harshit Rana, 9 Kuldeep Yadav, 10 Prasidh Krishna, 11 Mohammed Siraj\\n\\n# Match Coverage\\n\\n## India bring in Kuldeep, Australia win another toss and bat [...] ## ESPN\\n\\nAustralia\\nIndia\\nAustralia\\nIndia\\n\\n# India bring in Kuldeep, Australia win another toss and bat\\n\\nCopy Link\\n\\nAustralia won the toss and chose to bat against India\\n\\nMitchell Marsh took the opportunity to set a total in the third ODI against India at the SCG after the visitors lost their 18th toss in a row in the format as Australia hunt a 3-0 series sweep.',\n",
       "  'score': 0.25532785}]"
      ]
     },
     "execution_count": 10,
     "metadata": {},
     "output_type": "execute_result"
    }
   ],
   "source": [
    "from dotenv import load_dotenv\n",
    "load_dotenv()\n",
    "import os\n",
    "\n",
    "os.environ[\"TAVILY_API_KEY\"]=os.getenv(\"TAVILY_API_KEY\")\n",
    "os.environ[\"OPENAI_API_KEY\"]=os.getenv(\"OPENAI_API_KEY\")\n",
    "\n",
    "from langchain_community.tools import TavilySearchResults\n",
    "tavily=TavilySearchResults(max_results=2)\n",
    "tavily.invoke(\"What is the latest victory for team india as of 25th  OCT 2025?\")\n",
    "\n",
    "\n"
   ]
  },
  {
   "cell_type": "code",
   "execution_count": 11,
   "id": "2a50bc0a",
   "metadata": {},
   "outputs": [],
   "source": [
    "##combine all the tools in the list\n",
    "\n",
    "tools=[arxiv,wiki,tavily]"
   ]
  },
  {
   "cell_type": "code",
   "execution_count": 13,
   "id": "e2f7172b",
   "metadata": {},
   "outputs": [],
   "source": [
    "##Initialise the LLM\n",
    "from langchain_openai import ChatOpenAI\n",
    "llm=ChatOpenAI(model=\"gpt-4o-mini\")\n",
    "llm_with_tools=llm.bind_tools(tools)"
   ]
  },
  {
   "cell_type": "code",
   "execution_count": 16,
   "id": "678c3b29",
   "metadata": {},
   "outputs": [
    {
     "data": {
      "text/plain": [
       "[{'name': 'tavily_search_results_json',\n",
       "  'args': {'query': 'latest victory for team india as of October 25 2025'},\n",
       "  'id': 'call_pKPxXKBTxKJ43Yn0XPz43jgQ',\n",
       "  'type': 'tool_call'}]"
      ]
     },
     "execution_count": 16,
     "metadata": {},
     "output_type": "execute_result"
    }
   ],
   "source": [
    "from pprint import pprint\n",
    "from langchain_core.messages import AIMessage,HumanMessage\n",
    "llm_with_tools.invoke([HumanMessage(content=f\"What is the latest victory for team india as of 25th  OCT 2025?\")]).tool_calls"
   ]
  },
  {
   "cell_type": "code",
   "execution_count": 17,
   "id": "9f7b8269",
   "metadata": {},
   "outputs": [],
   "source": [
    "from typing_extensions import TypedDict\n",
    "from langchain_core.messages import AnyMessage\n",
    "from typing import Annotated\n",
    "from langgraph.graph import add_messages\n",
    "class State(TypedDict):\n",
    "    messages:Annotated[list[AnyMessage],add_messages]"
   ]
  },
  {
   "cell_type": "code",
   "execution_count": 19,
   "id": "53bd2ae6",
   "metadata": {},
   "outputs": [
    {
     "data": {
      "image/png": "[encoded data removed]",
      "text/plain": [
       "<IPython.core.display.Image object>"
      ]
     },
     "metadata": {},
     "output_type": "display_data"
    }
   ],
   "source": [
    "from IPython.display import Image,display\n",
    "from langgraph.graph import StateGraph,START,END\n",
    "from langgraph.prebuilt import ToolNode\n",
    "from langgraph.prebuilt import tools_condition\n",
    "\n",
    "##Node Definition\n",
    "def tool_calling_llm(state:State):\n",
    "    return {\"messages\":[llm_with_tools.invoke(state[\"messages\"])]}\n",
    "\n",
    "\n",
    "graph=StateGraph(State)\n",
    "\n",
    "#Add nodes\n",
    "graph.add_node(\"tool_calling_llm\",tool_calling_llm)\n",
    "graph.add_node(\"tools\",ToolNode(tools))\n",
    "#Add edges\n",
    "graph.add_edge(START,\"tool_calling_llm\")\n",
    "graph.add_conditional_edges(\n",
    "    \"tool_calling_llm\",\n",
    "    #if the latest message (result) from assistant is a tool call ->tool condition routes to tool\n",
    "    # If the latest message (result) from assistant is not a tool call->tool_condition routes to END\n",
    "        tools_condition\n",
    ")\n",
    "\n",
    "graph.add_edge(\"tools\",END)\n",
    "\n",
    "graph_compile=graph.compile()\n",
    "\n",
    "display(Image(graph_compile.get_graph().draw_mermaid_png()))\n"
   ]
  },
  {
   "cell_type": "code",
   "execution_count": 20,
   "id": "22ed9c19",
   "metadata": {},
   "outputs": [
    {
     "name": "stdout",
     "output_type": "stream",
     "text": [
      "================================\u001b[1m Human Message \u001b[0m=================================\n",
      "\n",
      "What is attention is all you need paper?\n",
      "==================================\u001b[1m Ai Message \u001b[0m==================================\n",
      "Tool Calls:\n",
      "  wikipedia (call_rYdnMSy3PNFq5JBORnu7VFjM)\n",
      " Call ID: call_rYdnMSy3PNFq5JBORnu7VFjM\n",
      "  Args:\n",
      "    query: Attention is All You Need\n",
      "=================================\u001b[1m Tool Message \u001b[0m=================================\n",
      "Name: wikipedia\n",
      "\n",
      "Page: Attention Is All You Need\n",
      "Summary: \"Attention Is All You Need\" is a 2017 landmark research paper in machine learning authored by eight scientists working at Google. The paper introduced a new deep learning architecture known as the transformer, based on the attention mechanism proposed in 2014 by Bahdanau et al. It is considered a foundational paper in modern artificial intelligence, and a main contributor to the AI boom, as the transformer approach has become the main architecture of a wi\n"
     ]
    }
   ],
   "source": [
    "messages=graph_compile.invoke({\"messages\":HumanMessage(content=\"What is attention is all you need paper?\")})\n",
    "for m in messages[\"messages\"]:\n",
    "    m.pretty_print()"
   ]
  },
  {
   "cell_type": "code",
   "execution_count": 21,
   "id": "734cef56",
   "metadata": {},
   "outputs": [
    {
     "name": "stdout",
     "output_type": "stream",
     "text": [
      "================================\u001b[1m Human Message \u001b[0m=================================\n",
      "\n",
      "Top 10 recent AI news?\n",
      "==================================\u001b[1m Ai Message \u001b[0m==================================\n",
      "Tool Calls:\n",
      "  tavily_search_results_json (call_kJg4Uw7DdKiL6cjZcJQW7pB8)\n",
      " Call ID: call_kJg4Uw7DdKiL6cjZcJQW7pB8\n",
      "  Args:\n",
      "    query: recent AI news\n",
      "=================================\u001b[1m Tool Message \u001b[0m=================================\n",
      "Name: tavily_search_results_json\n",
      "\n",
      "[{\"title\": \"AI News | Latest AI News, Analysis & Events\", \"url\": \"https://www.artificialintelligence-news.com/\", \"content\": \"How AI is changing the way we travel · October 7, 2025 ; Spot AI introduces the world's first universal AI agent builder for security cameras · April 10, 2025\", \"score\": 0.7946564}, {\"title\": \"The 2025 AI Index Report | Stanford HAI\", \"url\": \"https://hai.stanford.edu/ai-index/2025-ai-index-report\", \"content\": \"In 2024, U.S. federal agencies introduced 59 AI-related regulations—more than double the number in 2023—and issued by twice as many agencies. Globally, legislative mentions of AI rose 21.3% across 75 countries since 2023, marking a ninefold increase since 2016. Alongside growing attention, governments are investing at scale: Canada pledged $2.4 billion, China launched a $47.5 billion semiconductor fund, France committed €109 billion, India pledged $1.25 billion, and Saudi Arabia’s Project [...] ### 2. AI is increasingly embedded in everyday life.\\n\\nFrom healthcare to transportation, AI is rapidly moving from the lab to daily life. In 2023, the FDA approved 223 AI-enabled medical devices, up from just six in 2015. On the roads, self-driving cars are no longer experimental: Waymo, one of the largest U.S. operators, provides over 150,000 autonomous rides each week, while Baidu’s affordable Apollo Go robotaxi fleet now serves numerous cities across China. [...] In 2024, U.S. private AI investment grew to $109.1 billion—nearly 12 times China’s $9.3 billion and 24 times the U.K.’s $4.5 billion. Generative AI saw particularly strong momentum, attracting $33.9 billion globally in private investment—an 18.7% increase from 2023. AI business usage is also accelerating: 78% of organizations reported using AI in 2024, up from 55% the year before. Meanwhile, a growing body of research confirms that AI boosts productivity and, in most cases, helps narrow skill\", \"score\": 0.68090034}]\n"
     ]
    }
   ],
   "source": [
    "messages=graph_compile.invoke({\"messages\":HumanMessage(content=\"Top 10 recent AI news?\")})\n",
    "for m in messages[\"messages\"]:\n",
    "    m.pretty_print()"
   ]
  }
 ],
 "metadata": {
  "kernelspec": {
   "display_name": "venv",
   "language": "python",
   "name": "python3"
  },
  "language_info": {
   "codemirror_mode": {
    "name": "ipython",
    "version": 3
   },
   "file_extension": ".py",
   "mimetype": "text/x-python",
   "name": "python",
   "nbconvert_exporter": "python",
   "pygments_lexer": "ipython3",
   "version": "3.13.5"
  }
 },
 "nbformat": 4,
 "nbformat_minor": 5
}
