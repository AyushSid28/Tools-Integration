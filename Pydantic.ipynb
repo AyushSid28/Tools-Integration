{
 "cells": [
  {
   "cell_type": "code",
   "execution_count": 2,
   "id": "86bbc40d",
   "metadata": {},
   "outputs": [],
   "source": [
    "from langgraph.graph import StateGraph,START,END\n",
    "from pydantic import BaseModel\n"
   ]
  },
  {
   "cell_type": "code",
   "execution_count": 5,
   "id": "c1a06002",
   "metadata": {},
   "outputs": [],
   "source": [
    "class State(BaseModel):\n",
    "    name:str"
   ]
  },
  {
   "cell_type": "code",
   "execution_count": 6,
   "id": "6f1ead78",
   "metadata": {},
   "outputs": [],
   "source": [
    "#Node function\n",
    "def example_node(state:State):\n",
    "    return {\"name\":\"Hello\"}\n",
    "\n",
    "    "
   ]
  },
  {
   "cell_type": "code",
   "execution_count": null,
   "id": "c8cb013f",
   "metadata": {},
   "outputs": [
    {
     "data": {
      "text/plain": [
       "{'name': 'Hello'}"
      ]
     },
     "execution_count": 10,
     "metadata": {},
     "output_type": "execute_result"
    }
   ],
   "source": [
    "builder=StateGraph(State)\n",
    "builder.add_node(\"example_node\",example_node)\n",
    "\n",
    "builder.add_edge(START,\"example_node\")\n",
    "\n",
    "builder.add_edge(\"example_node\",END)\n",
    "\n",
    "graph=builder.compile()\n",
    "\n",
    "\n",
    "##IF we add a int value instead of string in the name var then we will get a validation error\n",
    "##As pydantic throws a runtime error if the type is not correct\n",
    "\n",
    "graph.invoke({\"name\":\"Ayush\"})"
   ]
  }
 ],
 "metadata": {
  "kernelspec": {
   "display_name": "venv",
   "language": "python",
   "name": "python3"
  },
  "language_info": {
   "codemirror_mode": {
    "name": "ipython",
    "version": 3
   },
   "file_extension": ".py",
   "mimetype": "text/x-python",
   "name": "python",
   "nbconvert_exporter": "python",
   "pygments_lexer": "ipython3",
   "version": "3.13.5"
  }
 },
 "nbformat": 4,
 "nbformat_minor": 5
}
