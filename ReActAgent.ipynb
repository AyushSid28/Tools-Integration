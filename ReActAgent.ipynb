{
 "cells": [
  {
   "cell_type": "code",
   "execution_count": 1,
   "id": "3b544dba",
   "metadata": {},
   "outputs": [],
   "source": [
    "from langchain_community.tools import ArxivQueryRun,WikipediaQueryRun\n",
    "from langchain_community.utilities import WikipediaAPIWrapper,ArxivAPIWrapper"
   ]
  },
  {
   "cell_type": "code",
   "execution_count": 6,
   "id": "65d9e1c6",
   "metadata": {},
   "outputs": [
    {
     "name": "stdout",
     "output_type": "stream",
     "text": [
      "arxiv\n"
     ]
    },
    {
     "name": "stderr",
     "output_type": "stream",
     "text": [
      "/var/folders/fc/g6wd0wrn5t5b6ryr1q6s38p40000gn/T/ipykernel_30634/2553622734.py:6: LangChainDeprecationWarning: The class `TavilySearchResults` was deprecated in LangChain 0.3.25 and will be removed in 1.0. An updated version of the class exists in the `langchain-tavily package and should be used instead. To use it run `pip install -U `langchain-tavily` and import as `from `langchain_tavily import TavilySearch``.\n",
      "  tavily=TavilySearchResults(max_results=2)\n"
     ]
    },
    {
     "data": {
      "text/plain": [
       "[{'title': 'India Nears Historic Win in Thrilling Asia Cup 2025 Match',\n",
       "  'url': 'https://www.instagram.com/asiacup2025/p/DQOSVejk6FZ/',\n",
       "  'content': 'asiacup2025. RIVALRY OVER… INDIA ON TOP! Team India crush Pakistan in the Asia Cup 2025 Final Big stage ✔️ Big win ✔️ Blue domination ✔️',\n",
       "  'score': 0.4813325},\n",
       " {'title': 'Asia Cup 2025: India and Pakistan turn cricket into ...',\n",
       "  'url': 'https://www.aljazeera.com/opinions/2025/10/1/asia-cup-2025-india-and-pakistan-turn-cricket-into-militarised-theatre',\n",
       "  'content': \"TOPSHOT - India's captain Suryakumar Yadav (R) playfully pretends to hold the trophy as his team celebrates their victory at the end of the Asia Cup 2025 Twenty20 international cricket final match between India and Pakistan at the Dubai International Stadium in Dubai on September 28, 2025. [...] Despite being fined for making comments deemed political – dedicating India’s win to the victims of the Pahalgam attack and the Indian armed forces – at a post-match news conference on September 14, India’s captain, Suryakumar Yadav, made similar remarks with even greater passion after India’s victory over Pakistan in the final just two weeks later. Pakistan’s fast bowler Haris Rauf, who conceded 50 runs in his four overs in the final, was also found guilty of unsporting theatrics. He was fined [...] This blurred division between sport and warring foreign policy blotted the image of cricket, a gentleman’s game. Indian Prime Minister Narendra Modi, in a tweet from his official X handle, implied that India’s performance was “Operation Sindoor” on the field, where the outcome was the same: India winning. Suhasini Haidar, a prominent Indian journalist, sharply remarked that the prime minister “compares a deadly conflict where both armed forces and civilians were killed … to a cricket match”.\",\n",
       "  'score': 0.44189036}]"
      ]
     },
     "execution_count": 6,
     "metadata": {},
     "output_type": "execute_result"
    }
   ],
   "source": [
    "api_wrapper_arxiv=ArxivAPIWrapper(top_k_results=2,doc_content_chars_max=500)\n",
    "arxiv=ArxivQueryRun(api_wrapper=api_wrapper_arxiv)\n",
    "print(arxiv.name)\n",
    "\n",
    "from langchain_community.tools import TavilySearchResults\n",
    "tavily=TavilySearchResults(max_results=2)\n",
    "tavily.invoke(\"What is the latest victory for team india as of 25th  OCT 2025?\")\n",
    "\n"
   ]
  },
  {
   "cell_type": "code",
   "execution_count": 7,
   "id": "22b606bf",
   "metadata": {},
   "outputs": [
    {
     "data": {
      "text/plain": [
       "'wikipedia'"
      ]
     },
     "execution_count": 7,
     "metadata": {},
     "output_type": "execute_result"
    }
   ],
   "source": [
    "api_wrapper_wikipedia=WikipediaAPIWrapper(top_k_results=1,doc_content_chars_max=500)\n",
    "wiki=WikipediaQueryRun(api_wrapper=api_wrapper_wikipedia)\n",
    "wiki.name"
   ]
  },
  {
   "cell_type": "code",
   "execution_count": 3,
   "id": "c50c8602",
   "metadata": {},
   "outputs": [
    {
     "data": {
      "text/plain": [
       "'Published: 2025-04-03\\nTitle: A Review of Prototyping in XR: Linking Extended Reality to Digital Fabrication\\nAuthors: Bixun Chen, Shaun Macdonald, Moataz Attallah, Paul Chapman, Rami Ghannam\\nSummary: Extended Reality (XR) has expanded the horizons of entertainment and social\\nlife and shows great potential in the manufacturing industry. Prototyping in XR\\ncan help designers make initial proposals and iterations at low cost before\\nmanufacturers and investors decide whether to invest in research, dev'"
      ]
     },
     "execution_count": 3,
     "metadata": {},
     "output_type": "execute_result"
    }
   ],
   "source": [
    "arxiv.invoke(\"What is the latest research on LangChain?\")"
   ]
  },
  {
   "cell_type": "code",
   "execution_count": 4,
   "id": "0b1a9aaa",
   "metadata": {},
   "outputs": [],
   "source": [
    "from dotenv import load_dotenv\n",
    "load_dotenv()\n",
    "import os\n",
    "\n",
    "os.environ[\"TAVILY_API_KEY\"]=os.getenv(\"TAVILY_API_KEY\")\n",
    "os.environ[\"OPENAI_API_KEY\"]=os.getenv(\"OPENAI_API_KEY\")\n",
    "os.environ[\"LANGCHAIN_API_KEY\"]=os.getenv(\"LANGCHAIN_API_KEY\")\n",
    "os.environ[\"LANGCHAIN_TRACING_V2\"]=\"true\"\n",
    "os.environ[\"LANGCHAIN_PROJECT\"]=\"ReAct-agent\"\n",
    "\n"
   ]
  },
  {
   "cell_type": "code",
   "execution_count": null,
   "id": "64ce2fbb",
   "metadata": {},
   "outputs": [],
   "source": [
    "def multiply(a:int,b:int)->int:\n",
    "    \"\"\"Multiplies a and b.\n",
    "\n",
    "    Args:\n",
    "      a:first int\n",
    "      b:second int\n",
    "    \"\"\"\n",
    "    return a*b\n",
    "def add(a:int,b:int)->int:\n",
    "    \"\"\"Adds a and b.\n",
    "\n",
    "    Args:\n",
    "      a:first int\n",
    "      b:second int\n",
    "    \"\"\"\n",
    "    return a+b\n",
    "\n",
    "def divide(a:int,b:int)->float:\n",
    "    \"\"\"Divides a by b.\n",
    "\n",
    "    Args:\n",
    "      a:first int\n",
    "      b:second int\n",
    "    \"\"\"\n",
    "    return a/b\n",
    "\n",
    "tools=[arxiv,wiki,multiply,add,divide,tavily]"
   ]
  },
  {
   "cell_type": "code",
   "execution_count": 8,
   "id": "2b8a65db",
   "metadata": {},
   "outputs": [],
   "source": [
    "from dotenv import load_dotenv\n",
    "load_dotenv()\n",
    "import os\n",
    "\n",
    "os.environ[\"TAVILY_API_KEY\"]=os.getenv(\"TAVILY_API_KEY\")\n",
    "os.environ[\"OPENAI_API_KEY\"]=os.getenv(\"OPENAI_API_KEY\")\n"
   ]
  },
  {
   "cell_type": "code",
   "execution_count": 9,
   "id": "ebbd6c3e",
   "metadata": {},
   "outputs": [
    {
     "name": "stderr",
     "output_type": "stream",
     "text": [
      "/Users/ayushsiddhant/Desktop/Langchain/venv/lib/python3.13/site-packages/tqdm/auto.py:21: TqdmWarning: IProgress not found. Please update jupyter and ipywidgets. See https://ipywidgets.readthedocs.io/en/stable/user_install.html\n",
      "  from .autonotebook import tqdm as notebook_tqdm\n"
     ]
    }
   ],
   "source": [
    "from langchain_openai import ChatOpenAI\n",
    "llm=ChatOpenAI(model=\"gpt-4o-mini\")\n",
    "llm_with_tools=llm.bind_tools(tools)"
   ]
  },
  {
   "cell_type": "code",
   "execution_count": 10,
   "id": "1399066d",
   "metadata": {},
   "outputs": [
    {
     "data": {
      "text/plain": [
       "AIMessage(content='As of my last update in October 2023, LangChain is a framework designed to make it easier to build applications powered by language models. It provides various components to integrate large language models (LLMs) with other tools and APIs. The latest research and developments in LangChain focus on areas such as:\\n\\n1. **Integration with Different LLMs**: There has been ongoing work to make LangChain compatible with a variety of language models from different providers, allowing developers to switch between models easily.\\n\\n2. **Enhanced Memory Management**: Research has been directed towards improving how LangChain handles memory, enabling more effective context management during interactions with users.\\n\\n3. **Chain Composition**: The framework has emphasized the ability to create complex workflows by chaining together multiple tasks and models, making it easier for developers to create scalable applications.\\n\\n4. **Evaluation Metrics**: There have been discussions around developing better evaluation metrics for assessing the performance and reliability of applications built using LangChain.\\n\\n5. **Community Contributions**: The LangChain community has been active in sharing pre-built chains, tools, and templates which can be used as references or starting points in application development.\\n\\n6. **Use Cases and Applications**: Increased focus on various applications across different domains, including customer service automation, content generation, and data analysis.\\n\\n7. **Interactivity with Other Software**: Ongoing improvements in how LangChain interacts with external software, enabling better integrations with databases, APIs, and user interfaces.\\n\\nFor the very latest research and developments, I recommend checking the official LangChain GitHub repository, their documentation, or relevant academic publications and tech blogs that cover advancements in AI and LLMs.', additional_kwargs={'refusal': None}, response_metadata={'token_usage': {'completion_tokens': 336, 'prompt_tokens': 122, 'total_tokens': 458, 'completion_tokens_details': {'accepted_prediction_tokens': 0, 'audio_tokens': 0, 'reasoning_tokens': 0, 'rejected_prediction_tokens': 0}, 'prompt_tokens_details': {'audio_tokens': 0, 'cached_tokens': 0}}, 'model_provider': 'openai', 'model_name': 'gpt-4o-mini-2024-07-18', 'system_fingerprint': 'fp_51db84afab', 'id': 'chatcmpl-CUTlK71P4YhuWRzKJCBnIvZHwiUsj', 'service_tier': 'default', 'finish_reason': 'stop', 'logprobs': None}, id='lc_run--28571dec-bb12-4d45-8a4e-58f269155c09-0', usage_metadata={'input_tokens': 122, 'output_tokens': 336, 'total_tokens': 458, 'input_token_details': {'audio': 0, 'cache_read': 0}, 'output_token_details': {'audio': 0, 'reasoning': 0}})"
      ]
     },
     "execution_count": 10,
     "metadata": {},
     "output_type": "execute_result"
    }
   ],
   "source": [
    "from pprint import pprint\n",
    "from langchain_core.messages import HumanMessage,AIMessage\n",
    "llm_with_tools.invoke([HumanMessage(content=\"What is the latest research on LangChain?\")])"
   ]
  },
  {
   "cell_type": "code",
   "execution_count": 11,
   "id": "2de9b259",
   "metadata": {},
   "outputs": [
    {
     "data": {
      "text/plain": [
       "[]"
      ]
     },
     "execution_count": 11,
     "metadata": {},
     "output_type": "execute_result"
    }
   ],
   "source": [
    "llm_with_tools.invoke([HumanMessage(content=\"What is the latest research on LangChain?\")]).tool_calls"
   ]
  },
  {
   "cell_type": "code",
   "execution_count": 12,
   "id": "b81a9dc0",
   "metadata": {},
   "outputs": [
    {
     "data": {
      "text/plain": [
       "[]"
      ]
     },
     "execution_count": 12,
     "metadata": {},
     "output_type": "execute_result"
    }
   ],
   "source": [
    "from pprint import pprint\n",
    "from langchain_core.messages import AIMessage,HumanMessage\n",
    "llm_with_tools.invoke([HumanMessage(content=f\"What is the latest victory for team india as of 25th  OCT 2025?\")]).tool_calls"
   ]
  },
  {
   "cell_type": "code",
   "execution_count": 13,
   "id": "ef300d02",
   "metadata": {},
   "outputs": [],
   "source": [
    "from typing_extensions import TypedDict\n",
    "from langchain_core.messages import AnyMessage\n",
    "from typing import Annotated\n",
    "from langgraph.graph import add_messages\n",
    "class State(TypedDict):\n",
    "    messages:Annotated[list[AnyMessage],add_messages]"
   ]
  },
  {
   "cell_type": "code",
   "execution_count": 14,
   "id": "663d6cf9",
   "metadata": {},
   "outputs": [
    {
     "data": {
      "image/png": "[encoded data removed]",
      "text/plain": [
       "<IPython.core.display.Image object>"
      ]
     },
     "metadata": {},
     "output_type": "display_data"
    }
   ],
   "source": [
    "from IPython.display import Image,display\n",
    "from langgraph.graph import StateGraph,START,END\n",
    "from langgraph.prebuilt import ToolNode\n",
    "from langgraph.prebuilt import tools_condition\n",
    "\n",
    "##Node Definition\n",
    "def tool_calling_llm(state:State):\n",
    "    return {\"messages\":[llm_with_tools.invoke(state[\"messages\"])]}\n",
    "\n",
    "\n",
    "graph=StateGraph(State)\n",
    "\n",
    "#Add nodes\n",
    "graph.add_node(\"tool_calling_llm\",tool_calling_llm)\n",
    "graph.add_node(\"tools\",ToolNode(tools))\n",
    "#Add edges\n",
    "graph.add_edge(START,\"tool_calling_llm\")\n",
    "graph.add_conditional_edges(\n",
    "    \"tool_calling_llm\",\n",
    "    #if the latest message (result) from assistant is a tool call ->tool condition routes to tool\n",
    "    # If the latest message (result) from assistant is not a tool call->tool_condition routes to END\n",
    "        tools_condition\n",
    ")\n",
    "\n",
    "graph.add_edge(\"tools\",\"tool_calling_llm\")\n",
    "\n",
    "graph_compile=graph.compile()\n",
    "\n",
    "display(Image(graph_compile.get_graph().draw_mermaid_png()))\n"
   ]
  },
  {
   "cell_type": "code",
   "execution_count": 15,
   "id": "691100e9",
   "metadata": {},
   "outputs": [
    {
     "name": "stdout",
     "output_type": "stream",
     "text": [
      "================================\u001b[1m Human Message \u001b[0m=================================\n",
      "\n",
      "Provide me top 10 recent AI News,add 5 plus 5 and divide by 12?\n",
      "==================================\u001b[1m Ai Message \u001b[0m==================================\n",
      "Tool Calls:\n",
      "  add (call_Sfj2z3Eq00ryYgT9k7BH7BuH)\n",
      " Call ID: call_Sfj2z3Eq00ryYgT9k7BH7BuH\n",
      "  Args:\n",
      "    a: 5\n",
      "    b: 5\n",
      "  divide (call_w1vyibphhdFBy4iOPVMv8TaI)\n",
      " Call ID: call_w1vyibphhdFBy4iOPVMv8TaI\n",
      "  Args:\n",
      "    a: 10\n",
      "    b: 12\n",
      "=================================\u001b[1m Tool Message \u001b[0m=================================\n",
      "Name: add\n",
      "\n",
      "10\n",
      "=================================\u001b[1m Tool Message \u001b[0m=================================\n",
      "Name: divide\n",
      "\n",
      "0.8333333333333334\n",
      "==================================\u001b[1m Ai Message \u001b[0m==================================\n",
      "\n",
      "The result of adding 5 plus 5 is 10, and dividing by 12 gives approximately 0.83.\n",
      "\n",
      "As for the top 10 recent AI news, here they are:\n",
      "\n",
      "1. **ChatGPT's Enhanced Features** - OpenAI announced new features for ChatGPT, including multimodal capabilities that allow users to interact with text and visual content.\n",
      "\n",
      "2. **AI in Healthcare** - A recent study shows how AI is improving diagnostic accuracy in medical imaging, leading to earlier detection of diseases.\n",
      "\n",
      "3. **Regulatory Developments** - Governments and regulatory bodies worldwide are drafting new policies aimed at overseeing AI development to ensure ethical use and data privacy.\n",
      "\n",
      "4. **AI in Autonomous Vehicles** - Major automotive companies have made strides in implementing AI for enhanced safety and navigation systems in self-driving cars.\n",
      "\n",
      "5. **AI in Content Creation** - Businesses are increasingly using AI to generate marketing content, leading to discussions about the impact on creative industries.\n",
      "\n",
      "6. **AI for Climate Change** - Researchers are using AI to predict climate patterns and assess risks, contributing to environmental protection efforts.\n",
      "\n",
      "7. **Advancements in NLP** - New natural language processing models have been released, showcasing significant improvements in language understanding and generation.\n",
      "\n",
      "8. **AI and Cybersecurity** - Companies are deploying AI to enhance cybersecurity measures, detecting threats more quickly and effectively than traditional methods.\n",
      "\n",
      "9. **Ethical AI** - Organizations are launching initiatives focused on developing ethical AI frameworks to address bias and ensure fairness in AI applications.\n",
      "\n",
      "10. **Investment in AI Startups** - Venture capitalists are increasingly investing in AI startups, highlighting the technology's growth potential and its role in various industries.\n",
      "\n",
      "Feel free to ask for more details or additional information on any topic!\n"
     ]
    }
   ],
   "source": [
    "messages=graph_compile.invoke({\"messages\":HumanMessage(content=\"Provide me top 10 recent AI News,add 5 plus 5 and divide by 12?\")})\n",
    "for m in messages[\"messages\"]:\n",
    "    m.pretty_print()"
   ]
  },
  {
   "cell_type": "code",
   "execution_count": 16,
   "id": "77517d79",
   "metadata": {},
   "outputs": [
    {
     "name": "stdout",
     "output_type": "stream",
     "text": [
      "================================\u001b[1m Human Message \u001b[0m=================================\n",
      "\n",
      "Add 5 plus 5?\n",
      "==================================\u001b[1m Ai Message \u001b[0m==================================\n",
      "Tool Calls:\n",
      "  add (call_gXOdmsRFGuKjuHGebWv5QkcS)\n",
      " Call ID: call_gXOdmsRFGuKjuHGebWv5QkcS\n",
      "  Args:\n",
      "    a: 5\n",
      "    b: 5\n",
      "=================================\u001b[1m Tool Message \u001b[0m=================================\n",
      "Name: add\n",
      "\n",
      "10\n",
      "==================================\u001b[1m Ai Message \u001b[0m==================================\n",
      "\n",
      "5 plus 5 equals 10.\n"
     ]
    }
   ],
   "source": [
    "messages=graph_compile.invoke({\"messages\":HumanMessage(content=\"Add 5 plus 5?\")})\n",
    "for m in messages[\"messages\"]:\n",
    "    m.pretty_print()"
   ]
  },
  {
   "cell_type": "code",
   "execution_count": 20,
   "id": "1f72cc1a",
   "metadata": {},
   "outputs": [
    {
     "name": "stdout",
     "output_type": "stream",
     "text": [
      "================================\u001b[1m Human Message \u001b[0m=================================\n",
      "\n",
      "Divide that by 5?\n",
      "==================================\u001b[1m Ai Message \u001b[0m==================================\n",
      "\n",
      "Could you please provide the number that you would like to divide by 5?\n"
     ]
    }
   ],
   "source": [
    "messages=[HumanMessage(content=\"Divide that by 5?\")]\n",
    "messages=graph_compile.invoke({\"messages\":messages})\n",
    "for m in messages[\"messages\"]:\n",
    "    m.pretty_print()"
   ]
  },
  {
   "cell_type": "markdown",
   "id": "9b8db957",
   "metadata": {},
   "source": [
    "## Memory Saver\n",
    "\n",
    "**Memory Saver** is a checkpointing mechanism in LangGraph that persists conversation state across multiple interactions, allowing agents to maintain context between sessions using thread IDs.\n"
   ]
  },
  {
   "cell_type": "code",
   "execution_count": null,
   "id": "1217121f",
   "metadata": {},
   "outputs": [],
   "source": [
    "from IPython.display import Image,display\n",
    "from langgraph.graph import StateGraph,START,END\n",
    "from langgraph.prebuilt import ToolNode\n",
    "from langgraph.prebuilt import tools_condition\n",
    "\n",
    "##Node Definition\n",
    "def tool_calling_llm(state:State):\n",
    "    return {\"messages\":[llm_with_tools.invoke(state[\"messages\"])]}\n",
    "\n",
    "\n",
    "graph=StateGraph(State)\n",
    "\n",
    "#Add nodes\n",
    "graph.add_node(\"tool_calling_llm\",tool_calling_llm)\n",
    "graph.add_node(\"tools\",ToolNode(tools))\n",
    "#Add edges\n",
    "graph.add_edge(START,\"tool_calling_llm\")\n",
    "graph.add_conditional_edges(\n",
    "    \"tool_calling_llm\",\n",
    "    #if the latest message (result) from assistant is a tool call ->tool condition routes to tool\n",
    "    # If the latest message (result) from assistant is not a tool call->tool_condition routes to END\n",
    "        tools_condition\n",
    ")\n",
    "\n",
    "graph.add_edge(\"tools\",\"tool_calling_llm\")\n"
   ]
  },
  {
   "cell_type": "code",
   "execution_count": 22,
   "id": "867d910a",
   "metadata": {},
   "outputs": [
    {
     "data": {
      "image/png": "[encoded data removed]",
      "text/plain": [
       "<IPython.core.display.Image object>"
      ]
     },
     "metadata": {},
     "output_type": "display_data"
    }
   ],
   "source": [
    "from langgraph.checkpoint.memory import MemorySaver\n",
    "memory=MemorySaver()\n",
    "graph_compile=graph.compile(checkpointer=memory)\n",
    "\n",
    "display(Image(graph_compile.get_graph().draw_mermaid_png()))\n"
   ]
  },
  {
   "cell_type": "code",
   "execution_count": 23,
   "id": "ac14b452",
   "metadata": {},
   "outputs": [
    {
     "name": "stdout",
     "output_type": "stream",
     "text": [
      "================================\u001b[1m Human Message \u001b[0m=================================\n",
      "\n",
      "add 5 plus 5 \n",
      "==================================\u001b[1m Ai Message \u001b[0m==================================\n",
      "Tool Calls:\n",
      "  add (call_Fm41WsQzMQzwm6yjPtLtRnjZ)\n",
      " Call ID: call_Fm41WsQzMQzwm6yjPtLtRnjZ\n",
      "  Args:\n",
      "    a: 5\n",
      "    b: 5\n",
      "=================================\u001b[1m Tool Message \u001b[0m=================================\n",
      "Name: add\n",
      "\n",
      "10\n",
      "==================================\u001b[1m Ai Message \u001b[0m==================================\n",
      "\n",
      "5 plus 5 equals 10.\n"
     ]
    }
   ],
   "source": [
    "##Specify the thread\n",
    "\n",
    "config={\"configurable\":{\"thread_id\":\"1\"}}\n",
    "messages=[HumanMessage(content=\"add 5 plus 5 \")]\n",
    "messages=graph_compile.invoke({\"messages\":messages},config=config)\n",
    "\n",
    "for m in messages[\"messages\"]:\n",
    "    m.pretty_print()\n",
    "    \n",
    "    "
   ]
  },
  {
   "cell_type": "code",
   "execution_count": 24,
   "id": "b88d926f",
   "metadata": {},
   "outputs": [
    {
     "name": "stdout",
     "output_type": "stream",
     "text": [
      "================================\u001b[1m Human Message \u001b[0m=================================\n",
      "\n",
      "add 5 plus 5 \n",
      "==================================\u001b[1m Ai Message \u001b[0m==================================\n",
      "Tool Calls:\n",
      "  add (call_Fm41WsQzMQzwm6yjPtLtRnjZ)\n",
      " Call ID: call_Fm41WsQzMQzwm6yjPtLtRnjZ\n",
      "  Args:\n",
      "    a: 5\n",
      "    b: 5\n",
      "=================================\u001b[1m Tool Message \u001b[0m=================================\n",
      "Name: add\n",
      "\n",
      "10\n",
      "==================================\u001b[1m Ai Message \u001b[0m==================================\n",
      "\n",
      "5 plus 5 equals 10.\n",
      "================================\u001b[1m Human Message \u001b[0m=================================\n",
      "\n",
      "Add that number to 25 \n",
      "==================================\u001b[1m Ai Message \u001b[0m==================================\n",
      "Tool Calls:\n",
      "  add (call_cSvI7EsqEkqTwnfDPWivII44)\n",
      " Call ID: call_cSvI7EsqEkqTwnfDPWivII44\n",
      "  Args:\n",
      "    a: 10\n",
      "    b: 25\n",
      "=================================\u001b[1m Tool Message \u001b[0m=================================\n",
      "Name: add\n",
      "\n",
      "35\n",
      "==================================\u001b[1m Ai Message \u001b[0m==================================\n",
      "\n",
      "10 added to 25 equals 35.\n"
     ]
    }
   ],
   "source": [
    "messages=[HumanMessage(content=\"Add that number to 25 \")]\n",
    "messages=graph_compile.invoke({\"messages\":messages},config=config)\n",
    "\n",
    "for m in messages[\"messages\"]:\n",
    "    m.pretty_print()\n",
    "    \n",
    "    "
   ]
  },
  {
   "cell_type": "code",
   "execution_count": 25,
   "id": "978d18ae",
   "metadata": {},
   "outputs": [
    {
     "name": "stdout",
     "output_type": "stream",
     "text": [
      "================================\u001b[1m Human Message \u001b[0m=================================\n",
      "\n",
      "add 5 plus 5 \n",
      "==================================\u001b[1m Ai Message \u001b[0m==================================\n",
      "Tool Calls:\n",
      "  add (call_Fm41WsQzMQzwm6yjPtLtRnjZ)\n",
      " Call ID: call_Fm41WsQzMQzwm6yjPtLtRnjZ\n",
      "  Args:\n",
      "    a: 5\n",
      "    b: 5\n",
      "=================================\u001b[1m Tool Message \u001b[0m=================================\n",
      "Name: add\n",
      "\n",
      "10\n",
      "==================================\u001b[1m Ai Message \u001b[0m==================================\n",
      "\n",
      "5 plus 5 equals 10.\n",
      "================================\u001b[1m Human Message \u001b[0m=================================\n",
      "\n",
      "Add that number to 25 \n",
      "==================================\u001b[1m Ai Message \u001b[0m==================================\n",
      "Tool Calls:\n",
      "  add (call_cSvI7EsqEkqTwnfDPWivII44)\n",
      " Call ID: call_cSvI7EsqEkqTwnfDPWivII44\n",
      "  Args:\n",
      "    a: 10\n",
      "    b: 25\n",
      "=================================\u001b[1m Tool Message \u001b[0m=================================\n",
      "Name: add\n",
      "\n",
      "35\n",
      "==================================\u001b[1m Ai Message \u001b[0m==================================\n",
      "\n",
      "10 added to 25 equals 35.\n",
      "================================\u001b[1m Human Message \u001b[0m=================================\n",
      "\n",
      "multiply that number by 3 \n",
      "==================================\u001b[1m Ai Message \u001b[0m==================================\n",
      "Tool Calls:\n",
      "  multiply (call_xh0gxQUONGEozdfQ2ZBtFc13)\n",
      " Call ID: call_xh0gxQUONGEozdfQ2ZBtFc13\n",
      "  Args:\n",
      "    a: 35\n",
      "    b: 3\n",
      "=================================\u001b[1m Tool Message \u001b[0m=================================\n",
      "Name: multiply\n",
      "\n",
      "105\n",
      "==================================\u001b[1m Ai Message \u001b[0m==================================\n",
      "\n",
      "35 multiplied by 3 equals 105.\n"
     ]
    }
   ],
   "source": [
    "messages=[HumanMessage(content=\"multiply that number by 3 \")]\n",
    "messages=graph_compile.invoke({\"messages\":messages},config=config)\n",
    "\n",
    "for m in messages[\"messages\"]:\n",
    "    m.pretty_print()\n",
    "    \n",
    "    "
   ]
  }
 ],
 "metadata": {
  "kernelspec": {
   "display_name": "venv",
   "language": "python",
   "name": "python3"
  },
  "language_info": {
   "codemirror_mode": {
    "name": "ipython",
    "version": 3
   },
   "file_extension": ".py",
   "mimetype": "text/x-python",
   "name": "python",
   "nbconvert_exporter": "python",
   "pygments_lexer": "ipython3",
   "version": "3.13.5"
  }
 },
 "nbformat": 4,
 "nbformat_minor": 5
}
